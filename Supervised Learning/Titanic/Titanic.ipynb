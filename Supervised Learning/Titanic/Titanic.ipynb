{
 "cells": [
  {
   "cell_type": "code",
   "execution_count": 267,
   "id": "a65fdcb9-0b4a-4056-a442-db784f204b5d",
   "metadata": {},
   "outputs": [],
   "source": [
    "# basic libraries\n",
    "import numpy as np\n",
    "import pandas as pd\n",
    "import matplotlib.pyplot as plt\n",
    "import seaborn as sns\n",
    "\n",
    "# IA Libraries\n",
    "from sklearn import datasets, linear_model, metrics, preprocessing\n",
    "from sklearn.model_selection import cross_validate, KFold, cross_val_predict, train_test_split, cross_val_score\n",
    "from sklearn.metrics import make_scorer, mean_squared_error, accuracy_score, confusion_matrix, classification_report\n",
    "from sklearn.tree import DecisionTreeClassifier\n",
    "from sklearn.ensemble import RandomForestClassifier"
   ]
  },
  {
   "cell_type": "code",
   "execution_count": 220,
   "id": "96540c82-0168-4b58-a1ef-5b43807e00d1",
   "metadata": {},
   "outputs": [],
   "source": [
    "train_data = pd.read_csv('train.csv')  \n",
    "test_data = pd.read_csv('test.csv')\n",
    "submission_data = pd.read_csv('gender_submission.csv')"
   ]
  },
  {
   "cell_type": "code",
   "execution_count": 221,
   "id": "42257b2f-a520-4440-9384-606c7095830f",
   "metadata": {},
   "outputs": [
    {
     "name": "stdout",
     "output_type": "stream",
     "text": [
      "(891, 12)\n",
      "(418, 11)\n",
      "(418, 2)\n"
     ]
    }
   ],
   "source": [
    "print(train_data.shape)\n",
    "print(test_data.shape)\n",
    "print(submission_data.shape)"
   ]
  },
  {
   "cell_type": "code",
   "execution_count": 222,
   "id": "7e11bb48-e4a9-4434-b019-fec3c4b5e4a9",
   "metadata": {},
   "outputs": [
    {
     "data": {
      "text/plain": [
       "PassengerId      int64\n",
       "Survived         int64\n",
       "Pclass           int64\n",
       "Name            object\n",
       "Sex             object\n",
       "Age            float64\n",
       "SibSp            int64\n",
       "Parch            int64\n",
       "Ticket          object\n",
       "Fare           float64\n",
       "Cabin           object\n",
       "Embarked        object\n",
       "dtype: object"
      ]
     },
     "execution_count": 222,
     "metadata": {},
     "output_type": "execute_result"
    }
   ],
   "source": [
    "train_data.dtypes"
   ]
  },
  {
   "cell_type": "markdown",
   "id": "05c37a8d-73e6-4ce0-904c-be0c660f8c60",
   "metadata": {},
   "source": [
    "### Exploramos los datos"
   ]
  },
  {
   "cell_type": "code",
   "execution_count": 223,
   "id": "e7a962f2-e268-4262-aa37-ded92b8caf22",
   "metadata": {},
   "outputs": [
    {
     "data": {
      "text/html": [
       "<div>\n",
       "<style scoped>\n",
       "    .dataframe tbody tr th:only-of-type {\n",
       "        vertical-align: middle;\n",
       "    }\n",
       "\n",
       "    .dataframe tbody tr th {\n",
       "        vertical-align: top;\n",
       "    }\n",
       "\n",
       "    .dataframe thead th {\n",
       "        text-align: right;\n",
       "    }\n",
       "</style>\n",
       "<table border=\"1\" class=\"dataframe\">\n",
       "  <thead>\n",
       "    <tr style=\"text-align: right;\">\n",
       "      <th></th>\n",
       "      <th>PassengerId</th>\n",
       "      <th>Survived</th>\n",
       "      <th>Pclass</th>\n",
       "      <th>Name</th>\n",
       "      <th>Sex</th>\n",
       "      <th>Age</th>\n",
       "      <th>SibSp</th>\n",
       "      <th>Parch</th>\n",
       "      <th>Ticket</th>\n",
       "      <th>Fare</th>\n",
       "      <th>Cabin</th>\n",
       "      <th>Embarked</th>\n",
       "    </tr>\n",
       "  </thead>\n",
       "  <tbody>\n",
       "    <tr>\n",
       "      <th>103</th>\n",
       "      <td>104</td>\n",
       "      <td>0</td>\n",
       "      <td>3</td>\n",
       "      <td>Johansson, Mr. Gustaf Joel</td>\n",
       "      <td>male</td>\n",
       "      <td>33.0</td>\n",
       "      <td>0</td>\n",
       "      <td>0</td>\n",
       "      <td>7540</td>\n",
       "      <td>8.6542</td>\n",
       "      <td>NaN</td>\n",
       "      <td>S</td>\n",
       "    </tr>\n",
       "    <tr>\n",
       "      <th>429</th>\n",
       "      <td>430</td>\n",
       "      <td>1</td>\n",
       "      <td>3</td>\n",
       "      <td>Pickard, Mr. Berk (Berk Trembisky)</td>\n",
       "      <td>male</td>\n",
       "      <td>32.0</td>\n",
       "      <td>0</td>\n",
       "      <td>0</td>\n",
       "      <td>SOTON/O.Q. 392078</td>\n",
       "      <td>8.0500</td>\n",
       "      <td>E10</td>\n",
       "      <td>S</td>\n",
       "    </tr>\n",
       "    <tr>\n",
       "      <th>541</th>\n",
       "      <td>542</td>\n",
       "      <td>0</td>\n",
       "      <td>3</td>\n",
       "      <td>Andersson, Miss. Ingeborg Constanzia</td>\n",
       "      <td>female</td>\n",
       "      <td>9.0</td>\n",
       "      <td>4</td>\n",
       "      <td>2</td>\n",
       "      <td>347082</td>\n",
       "      <td>31.2750</td>\n",
       "      <td>NaN</td>\n",
       "      <td>S</td>\n",
       "    </tr>\n",
       "    <tr>\n",
       "      <th>506</th>\n",
       "      <td>507</td>\n",
       "      <td>1</td>\n",
       "      <td>2</td>\n",
       "      <td>Quick, Mrs. Frederick Charles (Jane Richards)</td>\n",
       "      <td>female</td>\n",
       "      <td>33.0</td>\n",
       "      <td>0</td>\n",
       "      <td>2</td>\n",
       "      <td>26360</td>\n",
       "      <td>26.0000</td>\n",
       "      <td>NaN</td>\n",
       "      <td>S</td>\n",
       "    </tr>\n",
       "    <tr>\n",
       "      <th>192</th>\n",
       "      <td>193</td>\n",
       "      <td>1</td>\n",
       "      <td>3</td>\n",
       "      <td>Andersen-Jensen, Miss. Carla Christine Nielsine</td>\n",
       "      <td>female</td>\n",
       "      <td>19.0</td>\n",
       "      <td>1</td>\n",
       "      <td>0</td>\n",
       "      <td>350046</td>\n",
       "      <td>7.8542</td>\n",
       "      <td>NaN</td>\n",
       "      <td>S</td>\n",
       "    </tr>\n",
       "  </tbody>\n",
       "</table>\n",
       "</div>"
      ],
      "text/plain": [
       "     PassengerId  Survived  Pclass  \\\n",
       "103          104         0       3   \n",
       "429          430         1       3   \n",
       "541          542         0       3   \n",
       "506          507         1       2   \n",
       "192          193         1       3   \n",
       "\n",
       "                                                Name     Sex   Age  SibSp  \\\n",
       "103                       Johansson, Mr. Gustaf Joel    male  33.0      0   \n",
       "429               Pickard, Mr. Berk (Berk Trembisky)    male  32.0      0   \n",
       "541             Andersson, Miss. Ingeborg Constanzia  female   9.0      4   \n",
       "506    Quick, Mrs. Frederick Charles (Jane Richards)  female  33.0      0   \n",
       "192  Andersen-Jensen, Miss. Carla Christine Nielsine  female  19.0      1   \n",
       "\n",
       "     Parch             Ticket     Fare Cabin Embarked  \n",
       "103      0               7540   8.6542   NaN        S  \n",
       "429      0  SOTON/O.Q. 392078   8.0500   E10        S  \n",
       "541      2             347082  31.2750   NaN        S  \n",
       "506      2              26360  26.0000   NaN        S  \n",
       "192      0             350046   7.8542   NaN        S  "
      ]
     },
     "metadata": {},
     "output_type": "display_data"
    },
    {
     "data": {
      "text/html": [
       "<div>\n",
       "<style scoped>\n",
       "    .dataframe tbody tr th:only-of-type {\n",
       "        vertical-align: middle;\n",
       "    }\n",
       "\n",
       "    .dataframe tbody tr th {\n",
       "        vertical-align: top;\n",
       "    }\n",
       "\n",
       "    .dataframe thead th {\n",
       "        text-align: right;\n",
       "    }\n",
       "</style>\n",
       "<table border=\"1\" class=\"dataframe\">\n",
       "  <thead>\n",
       "    <tr style=\"text-align: right;\">\n",
       "      <th></th>\n",
       "      <th>PassengerId</th>\n",
       "      <th>Pclass</th>\n",
       "      <th>Name</th>\n",
       "      <th>Sex</th>\n",
       "      <th>Age</th>\n",
       "      <th>SibSp</th>\n",
       "      <th>Parch</th>\n",
       "      <th>Ticket</th>\n",
       "      <th>Fare</th>\n",
       "      <th>Cabin</th>\n",
       "      <th>Embarked</th>\n",
       "    </tr>\n",
       "  </thead>\n",
       "  <tbody>\n",
       "    <tr>\n",
       "      <th>156</th>\n",
       "      <td>1048</td>\n",
       "      <td>1</td>\n",
       "      <td>Bird, Miss. Ellen</td>\n",
       "      <td>female</td>\n",
       "      <td>29.0</td>\n",
       "      <td>0</td>\n",
       "      <td>0</td>\n",
       "      <td>PC 17483</td>\n",
       "      <td>221.7792</td>\n",
       "      <td>C97</td>\n",
       "      <td>S</td>\n",
       "    </tr>\n",
       "    <tr>\n",
       "      <th>153</th>\n",
       "      <td>1045</td>\n",
       "      <td>3</td>\n",
       "      <td>Klasen, Mrs. (Hulda Kristina Eugenia Lofqvist)</td>\n",
       "      <td>female</td>\n",
       "      <td>36.0</td>\n",
       "      <td>0</td>\n",
       "      <td>2</td>\n",
       "      <td>350405</td>\n",
       "      <td>12.1833</td>\n",
       "      <td>NaN</td>\n",
       "      <td>S</td>\n",
       "    </tr>\n",
       "    <tr>\n",
       "      <th>61</th>\n",
       "      <td>953</td>\n",
       "      <td>2</td>\n",
       "      <td>McCrae, Mr. Arthur Gordon</td>\n",
       "      <td>male</td>\n",
       "      <td>32.0</td>\n",
       "      <td>0</td>\n",
       "      <td>0</td>\n",
       "      <td>237216</td>\n",
       "      <td>13.5000</td>\n",
       "      <td>NaN</td>\n",
       "      <td>S</td>\n",
       "    </tr>\n",
       "    <tr>\n",
       "      <th>127</th>\n",
       "      <td>1019</td>\n",
       "      <td>3</td>\n",
       "      <td>McCoy, Miss. Alicia</td>\n",
       "      <td>female</td>\n",
       "      <td>NaN</td>\n",
       "      <td>2</td>\n",
       "      <td>0</td>\n",
       "      <td>367226</td>\n",
       "      <td>23.2500</td>\n",
       "      <td>NaN</td>\n",
       "      <td>Q</td>\n",
       "    </tr>\n",
       "    <tr>\n",
       "      <th>386</th>\n",
       "      <td>1278</td>\n",
       "      <td>3</td>\n",
       "      <td>Aronsson, Mr. Ernst Axel Algot</td>\n",
       "      <td>male</td>\n",
       "      <td>24.0</td>\n",
       "      <td>0</td>\n",
       "      <td>0</td>\n",
       "      <td>349911</td>\n",
       "      <td>7.7750</td>\n",
       "      <td>NaN</td>\n",
       "      <td>S</td>\n",
       "    </tr>\n",
       "  </tbody>\n",
       "</table>\n",
       "</div>"
      ],
      "text/plain": [
       "     PassengerId  Pclass                                            Name  \\\n",
       "156         1048       1                               Bird, Miss. Ellen   \n",
       "153         1045       3  Klasen, Mrs. (Hulda Kristina Eugenia Lofqvist)   \n",
       "61           953       2                       McCrae, Mr. Arthur Gordon   \n",
       "127         1019       3                             McCoy, Miss. Alicia   \n",
       "386         1278       3                  Aronsson, Mr. Ernst Axel Algot   \n",
       "\n",
       "        Sex   Age  SibSp  Parch    Ticket      Fare Cabin Embarked  \n",
       "156  female  29.0      0      0  PC 17483  221.7792   C97        S  \n",
       "153  female  36.0      0      2    350405   12.1833   NaN        S  \n",
       "61     male  32.0      0      0    237216   13.5000   NaN        S  \n",
       "127  female   NaN      2      0    367226   23.2500   NaN        Q  \n",
       "386    male  24.0      0      0    349911    7.7750   NaN        S  "
      ]
     },
     "metadata": {},
     "output_type": "display_data"
    }
   ],
   "source": [
    "display(train_data.sample(5))\n",
    "display(test_data.sample(5))"
   ]
  },
  {
   "cell_type": "code",
   "execution_count": 224,
   "id": "0c268278-3e1c-423b-a3a8-39cc15fb6859",
   "metadata": {},
   "outputs": [
    {
     "data": {
      "text/html": [
       "<div>\n",
       "<style scoped>\n",
       "    .dataframe tbody tr th:only-of-type {\n",
       "        vertical-align: middle;\n",
       "    }\n",
       "\n",
       "    .dataframe tbody tr th {\n",
       "        vertical-align: top;\n",
       "    }\n",
       "\n",
       "    .dataframe thead th {\n",
       "        text-align: right;\n",
       "    }\n",
       "</style>\n",
       "<table border=\"1\" class=\"dataframe\">\n",
       "  <thead>\n",
       "    <tr style=\"text-align: right;\">\n",
       "      <th></th>\n",
       "      <th>PassengerId</th>\n",
       "      <th>Survived</th>\n",
       "      <th>Pclass</th>\n",
       "      <th>Name</th>\n",
       "      <th>Sex</th>\n",
       "      <th>Age</th>\n",
       "      <th>SibSp</th>\n",
       "      <th>Parch</th>\n",
       "      <th>Ticket</th>\n",
       "      <th>Fare</th>\n",
       "      <th>Cabin</th>\n",
       "      <th>Embarked</th>\n",
       "    </tr>\n",
       "  </thead>\n",
       "  <tbody>\n",
       "    <tr>\n",
       "      <th>count</th>\n",
       "      <td>891.000000</td>\n",
       "      <td>891.000000</td>\n",
       "      <td>891.000000</td>\n",
       "      <td>891</td>\n",
       "      <td>891</td>\n",
       "      <td>714.000000</td>\n",
       "      <td>891.000000</td>\n",
       "      <td>891.000000</td>\n",
       "      <td>891</td>\n",
       "      <td>891.000000</td>\n",
       "      <td>204</td>\n",
       "      <td>889</td>\n",
       "    </tr>\n",
       "    <tr>\n",
       "      <th>unique</th>\n",
       "      <td>NaN</td>\n",
       "      <td>NaN</td>\n",
       "      <td>NaN</td>\n",
       "      <td>891</td>\n",
       "      <td>2</td>\n",
       "      <td>NaN</td>\n",
       "      <td>NaN</td>\n",
       "      <td>NaN</td>\n",
       "      <td>681</td>\n",
       "      <td>NaN</td>\n",
       "      <td>147</td>\n",
       "      <td>3</td>\n",
       "    </tr>\n",
       "    <tr>\n",
       "      <th>top</th>\n",
       "      <td>NaN</td>\n",
       "      <td>NaN</td>\n",
       "      <td>NaN</td>\n",
       "      <td>Braund, Mr. Owen Harris</td>\n",
       "      <td>male</td>\n",
       "      <td>NaN</td>\n",
       "      <td>NaN</td>\n",
       "      <td>NaN</td>\n",
       "      <td>347082</td>\n",
       "      <td>NaN</td>\n",
       "      <td>B96 B98</td>\n",
       "      <td>S</td>\n",
       "    </tr>\n",
       "    <tr>\n",
       "      <th>freq</th>\n",
       "      <td>NaN</td>\n",
       "      <td>NaN</td>\n",
       "      <td>NaN</td>\n",
       "      <td>1</td>\n",
       "      <td>577</td>\n",
       "      <td>NaN</td>\n",
       "      <td>NaN</td>\n",
       "      <td>NaN</td>\n",
       "      <td>7</td>\n",
       "      <td>NaN</td>\n",
       "      <td>4</td>\n",
       "      <td>644</td>\n",
       "    </tr>\n",
       "    <tr>\n",
       "      <th>mean</th>\n",
       "      <td>446.000000</td>\n",
       "      <td>0.383838</td>\n",
       "      <td>2.308642</td>\n",
       "      <td>NaN</td>\n",
       "      <td>NaN</td>\n",
       "      <td>29.699118</td>\n",
       "      <td>0.523008</td>\n",
       "      <td>0.381594</td>\n",
       "      <td>NaN</td>\n",
       "      <td>32.204208</td>\n",
       "      <td>NaN</td>\n",
       "      <td>NaN</td>\n",
       "    </tr>\n",
       "    <tr>\n",
       "      <th>std</th>\n",
       "      <td>257.353842</td>\n",
       "      <td>0.486592</td>\n",
       "      <td>0.836071</td>\n",
       "      <td>NaN</td>\n",
       "      <td>NaN</td>\n",
       "      <td>14.526497</td>\n",
       "      <td>1.102743</td>\n",
       "      <td>0.806057</td>\n",
       "      <td>NaN</td>\n",
       "      <td>49.693429</td>\n",
       "      <td>NaN</td>\n",
       "      <td>NaN</td>\n",
       "    </tr>\n",
       "    <tr>\n",
       "      <th>min</th>\n",
       "      <td>1.000000</td>\n",
       "      <td>0.000000</td>\n",
       "      <td>1.000000</td>\n",
       "      <td>NaN</td>\n",
       "      <td>NaN</td>\n",
       "      <td>0.420000</td>\n",
       "      <td>0.000000</td>\n",
       "      <td>0.000000</td>\n",
       "      <td>NaN</td>\n",
       "      <td>0.000000</td>\n",
       "      <td>NaN</td>\n",
       "      <td>NaN</td>\n",
       "    </tr>\n",
       "    <tr>\n",
       "      <th>25%</th>\n",
       "      <td>223.500000</td>\n",
       "      <td>0.000000</td>\n",
       "      <td>2.000000</td>\n",
       "      <td>NaN</td>\n",
       "      <td>NaN</td>\n",
       "      <td>20.125000</td>\n",
       "      <td>0.000000</td>\n",
       "      <td>0.000000</td>\n",
       "      <td>NaN</td>\n",
       "      <td>7.910400</td>\n",
       "      <td>NaN</td>\n",
       "      <td>NaN</td>\n",
       "    </tr>\n",
       "    <tr>\n",
       "      <th>50%</th>\n",
       "      <td>446.000000</td>\n",
       "      <td>0.000000</td>\n",
       "      <td>3.000000</td>\n",
       "      <td>NaN</td>\n",
       "      <td>NaN</td>\n",
       "      <td>28.000000</td>\n",
       "      <td>0.000000</td>\n",
       "      <td>0.000000</td>\n",
       "      <td>NaN</td>\n",
       "      <td>14.454200</td>\n",
       "      <td>NaN</td>\n",
       "      <td>NaN</td>\n",
       "    </tr>\n",
       "    <tr>\n",
       "      <th>75%</th>\n",
       "      <td>668.500000</td>\n",
       "      <td>1.000000</td>\n",
       "      <td>3.000000</td>\n",
       "      <td>NaN</td>\n",
       "      <td>NaN</td>\n",
       "      <td>38.000000</td>\n",
       "      <td>1.000000</td>\n",
       "      <td>0.000000</td>\n",
       "      <td>NaN</td>\n",
       "      <td>31.000000</td>\n",
       "      <td>NaN</td>\n",
       "      <td>NaN</td>\n",
       "    </tr>\n",
       "    <tr>\n",
       "      <th>max</th>\n",
       "      <td>891.000000</td>\n",
       "      <td>1.000000</td>\n",
       "      <td>3.000000</td>\n",
       "      <td>NaN</td>\n",
       "      <td>NaN</td>\n",
       "      <td>80.000000</td>\n",
       "      <td>8.000000</td>\n",
       "      <td>6.000000</td>\n",
       "      <td>NaN</td>\n",
       "      <td>512.329200</td>\n",
       "      <td>NaN</td>\n",
       "      <td>NaN</td>\n",
       "    </tr>\n",
       "  </tbody>\n",
       "</table>\n",
       "</div>"
      ],
      "text/plain": [
       "        PassengerId    Survived      Pclass                     Name   Sex  \\\n",
       "count    891.000000  891.000000  891.000000                      891   891   \n",
       "unique          NaN         NaN         NaN                      891     2   \n",
       "top             NaN         NaN         NaN  Braund, Mr. Owen Harris  male   \n",
       "freq            NaN         NaN         NaN                        1   577   \n",
       "mean     446.000000    0.383838    2.308642                      NaN   NaN   \n",
       "std      257.353842    0.486592    0.836071                      NaN   NaN   \n",
       "min        1.000000    0.000000    1.000000                      NaN   NaN   \n",
       "25%      223.500000    0.000000    2.000000                      NaN   NaN   \n",
       "50%      446.000000    0.000000    3.000000                      NaN   NaN   \n",
       "75%      668.500000    1.000000    3.000000                      NaN   NaN   \n",
       "max      891.000000    1.000000    3.000000                      NaN   NaN   \n",
       "\n",
       "               Age       SibSp       Parch  Ticket        Fare    Cabin  \\\n",
       "count   714.000000  891.000000  891.000000     891  891.000000      204   \n",
       "unique         NaN         NaN         NaN     681         NaN      147   \n",
       "top            NaN         NaN         NaN  347082         NaN  B96 B98   \n",
       "freq           NaN         NaN         NaN       7         NaN        4   \n",
       "mean     29.699118    0.523008    0.381594     NaN   32.204208      NaN   \n",
       "std      14.526497    1.102743    0.806057     NaN   49.693429      NaN   \n",
       "min       0.420000    0.000000    0.000000     NaN    0.000000      NaN   \n",
       "25%      20.125000    0.000000    0.000000     NaN    7.910400      NaN   \n",
       "50%      28.000000    0.000000    0.000000     NaN   14.454200      NaN   \n",
       "75%      38.000000    1.000000    0.000000     NaN   31.000000      NaN   \n",
       "max      80.000000    8.000000    6.000000     NaN  512.329200      NaN   \n",
       "\n",
       "       Embarked  \n",
       "count       889  \n",
       "unique        3  \n",
       "top           S  \n",
       "freq        644  \n",
       "mean        NaN  \n",
       "std         NaN  \n",
       "min         NaN  \n",
       "25%         NaN  \n",
       "50%         NaN  \n",
       "75%         NaN  \n",
       "max         NaN  "
      ]
     },
     "metadata": {},
     "output_type": "display_data"
    }
   ],
   "source": [
    "display(train_data.describe(include='all'))"
   ]
  },
  {
   "cell_type": "code",
   "execution_count": 225,
   "id": "61c4c58a-9a30-4e49-ae39-a6c012fa9682",
   "metadata": {},
   "outputs": [
    {
     "name": "stdout",
     "output_type": "stream",
     "text": [
      "<class 'pandas.core.frame.DataFrame'>\n",
      "RangeIndex: 891 entries, 0 to 890\n",
      "Data columns (total 12 columns):\n",
      " #   Column       Non-Null Count  Dtype  \n",
      "---  ------       --------------  -----  \n",
      " 0   PassengerId  891 non-null    int64  \n",
      " 1   Survived     891 non-null    int64  \n",
      " 2   Pclass       891 non-null    int64  \n",
      " 3   Name         891 non-null    object \n",
      " 4   Sex          891 non-null    object \n",
      " 5   Age          714 non-null    float64\n",
      " 6   SibSp        891 non-null    int64  \n",
      " 7   Parch        891 non-null    int64  \n",
      " 8   Ticket       891 non-null    object \n",
      " 9   Fare         891 non-null    float64\n",
      " 10  Cabin        204 non-null    object \n",
      " 11  Embarked     889 non-null    object \n",
      "dtypes: float64(2), int64(5), object(5)\n",
      "memory usage: 83.7+ KB\n",
      "None\n"
     ]
    }
   ],
   "source": [
    "print(train_data.info())"
   ]
  },
  {
   "cell_type": "code",
   "execution_count": 226,
   "id": "a1f987bb-6e75-4397-b3f1-920e0c7268ae",
   "metadata": {},
   "outputs": [
    {
     "data": {
      "image/png": "[encoded data removed]",
      "text/plain": [
       "<Figure size 432x288 with 1 Axes>"
      ]
     },
     "metadata": {},
     "output_type": "display_data"
    }
   ],
   "source": [
    "sns.barplot(x='Embarked', y='Survived', hue='Sex', data=train_data)\n",
    "plt.show()"
   ]
  },
  {
   "cell_type": "code",
   "execution_count": 227,
   "id": "ba84aab4-bfba-48d7-a2fd-5ab024c5d91c",
   "metadata": {},
   "outputs": [
    {
     "data": {
      "image/png": "[encoded data removed]",
      "text/plain": [
       "<Figure size 432x288 with 1 Axes>"
      ]
     },
     "metadata": {},
     "output_type": "display_data"
    }
   ],
   "source": [
    "sns.pointplot(x='Pclass', y='Survived', hue='Sex', data=train_data)\n",
    "plt.show()"
   ]
  },
  {
   "cell_type": "markdown",
   "id": "369109b7-4896-4d2d-a87b-cf95397ed6e0",
   "metadata": {},
   "source": [
    "#### Modificamos la edad para simplificar el dataset"
   ]
  },
  {
   "cell_type": "code",
   "execution_count": 228,
   "id": "41251be3-4683-462f-b95e-654abb6c9870",
   "metadata": {},
   "outputs": [
    {
     "name": "stdout",
     "output_type": "stream",
     "text": [
      "[0.83, 2.0, 3.0, 4.0, 5.0, 7.0, 8.0, 11.0, 14.0, 15.0, 16.0, 17.0, 18.0, 19.0, 20.0, 21.0, 22.0, 23.0, 24.0, 25.0, 26.0, 27.0, 28.0, 28.5, 29.0, 30.0, 31.0, 32.0, 33.0, 34.0, 35.0, 38.0, nan, 0.42, 0.67, 0.75, 0.92, 1.0, 6.0, 9.0, 10.0, 12.0, 13.0, 14.5, 20.5, 23.5, 24.5, 30.5, 32.5, 34.5, 36.0, 36.5, 37.0, 39.0, 40.0, 40.5, 41.0, 42.0, 43.0, 44.0, 45.0, 45.5, 46.0, 47.0, 48.0, 49.0, 50.0, 51.0, 52.0, 53.0, 54.0, 55.0, 55.5, 56.0, 57.0, 58.0, 59.0, 60.0, 61.0, 62.0, 63.0, 64.0, 65.0, 66.0, 70.0, 70.5, 71.0, 74.0, 80.0]\n"
     ]
    }
   ],
   "source": [
    "so = list(train_data.Age.unique())\n",
    "so.sort()\n",
    "print(so)"
   ]
  },
  {
   "cell_type": "code",
   "execution_count": 229,
   "id": "56b36cee-e377-49bd-b6b8-c2e9a99181c3",
   "metadata": {},
   "outputs": [
    {
     "data": {
      "image/png": "[encoded data removed]",
      "text/plain": [
       "<Figure size 432x288 with 1 Axes>"
      ]
     },
     "metadata": {},
     "output_type": "display_data"
    }
   ],
   "source": [
    "train_data.hist(column='Age')\n",
    "plt.show()"
   ]
  },
  {
   "cell_type": "code",
   "execution_count": 230,
   "id": "4d6fe326-6c28-4ce6-93ae-8ec6b9b3eae0",
   "metadata": {},
   "outputs": [],
   "source": [
    "def cat_age(data):\n",
    "    data['Age'] = data['Age'].fillna(-0.5)\n",
    "    bins = (-1, 0, 12, 18, 30, 60, 120)\n",
    "    cat_names = ('Unknown', 'Child', 'Teenager', 'Young Adult', 'Adult', 'Elderly')\n",
    "    categories = pd.cut(data['Age'], bins, labels = cat_names)\n",
    "    data['Age'] = categories\n",
    "    return"
   ]
  },
  {
   "cell_type": "code",
   "execution_count": 231,
   "id": "639b31f2-2d18-4d9a-a42b-9d3608d920de",
   "metadata": {},
   "outputs": [
    {
     "data": {
      "text/plain": [
       "297          Child\n",
       "125          Child\n",
       "107        Unknown\n",
       "167          Adult\n",
       "170        Elderly\n",
       "627    Young Adult\n",
       "417       Teenager\n",
       "637          Adult\n",
       "529    Young Adult\n",
       "577          Adult\n",
       "Name: Age, dtype: category\n",
       "Categories (6, object): ['Unknown' < 'Child' < 'Teenager' < 'Young Adult' < 'Adult' < 'Elderly']"
      ]
     },
     "execution_count": 231,
     "metadata": {},
     "output_type": "execute_result"
    }
   ],
   "source": [
    "cat_age(train_data)\n",
    "cat_age(test_data)\n",
    "\n",
    "train_data['Age'].sample(10)"
   ]
  },
  {
   "cell_type": "markdown",
   "id": "1d727952-89d4-425f-a4d3-e4ee2de03fda",
   "metadata": {},
   "source": [
    "#### Simplificamos la columna de las cabinas"
   ]
  },
  {
   "cell_type": "code",
   "execution_count": 232,
   "id": "15ae20f6-1cdb-4497-b386-ced4ad5e9214",
   "metadata": {},
   "outputs": [
    {
     "data": {
      "image/png": "[encoded data removed]",
      "text/plain": [
       "<Figure size 432x288 with 1 Axes>"
      ]
     },
     "metadata": {},
     "output_type": "display_data"
    }
   ],
   "source": [
    "sns.countplot(x='Cabin', data=train_data)\n",
    "plt.show()"
   ]
  },
  {
   "cell_type": "code",
   "execution_count": 233,
   "id": "568b7d35-91bb-4b90-a9db-2fb7f89264d3",
   "metadata": {},
   "outputs": [
    {
     "data": {
      "text/plain": [
       "132    NaN\n",
       "453    C92\n",
       "734    NaN\n",
       "592    NaN\n",
       "619    NaN\n",
       "Name: Cabin, dtype: object"
      ]
     },
     "metadata": {},
     "output_type": "display_data"
    }
   ],
   "source": [
    "display(train_data['Cabin'].sample(5))"
   ]
  },
  {
   "cell_type": "code",
   "execution_count": 234,
   "id": "7ffc83dc-e5a4-4f96-bddd-6668e64e3ad1",
   "metadata": {},
   "outputs": [],
   "source": [
    "def extract_cabin(data):\n",
    "    data['Cabin'] = data['Cabin'].fillna('N')\n",
    "    data['Cabin'] = data['Cabin'].apply(lambda x : x[0])"
   ]
  },
  {
   "cell_type": "code",
   "execution_count": 235,
   "id": "47c6ec69-122b-448a-8e68-405ce46b5943",
   "metadata": {},
   "outputs": [
    {
     "data": {
      "text/plain": [
       "651    N\n",
       "139    B\n",
       "193    F\n",
       "794    N\n",
       "595    N\n",
       "Name: Cabin, dtype: object"
      ]
     },
     "metadata": {},
     "output_type": "display_data"
    }
   ],
   "source": [
    "extract_cabin(train_data)\n",
    "extract_cabin(test_data)\n",
    "\n",
    "display(train_data['Cabin'].sample(5))"
   ]
  },
  {
   "cell_type": "markdown",
   "id": "4e2e6386-a3ca-4091-a7f2-52bb7ae4ff17",
   "metadata": {},
   "source": [
    "#### Modificamos el Fare (distancia)"
   ]
  },
  {
   "cell_type": "code",
   "execution_count": 236,
   "id": "08c4466b-2a2e-474e-bf61-e725b5ceef5b",
   "metadata": {},
   "outputs": [
    {
     "data": {
      "text/plain": [
       "55      35.5000\n",
       "305    151.5500\n",
       "79      12.4750\n",
       "879     83.1583\n",
       "847      7.8958\n",
       "Name: Fare, dtype: float64"
      ]
     },
     "execution_count": 236,
     "metadata": {},
     "output_type": "execute_result"
    }
   ],
   "source": [
    "train_data['Fare'].sample(5)"
   ]
  },
  {
   "cell_type": "code",
   "execution_count": 237,
   "id": "f97bf3eb-6b85-473d-932f-f1eb9e66b9d8",
   "metadata": {},
   "outputs": [],
   "source": [
    "def cat_fare(data):\n",
    "    data['Fare'] = data['Fare'].fillna(0.0)\n",
    "    cat_names = ['1st', '2nd', '3rd', '4th', '5th']\n",
    "    data['Fare'] = pd.qcut(data['Fare'], 5, labels = cat_names)"
   ]
  },
  {
   "cell_type": "code",
   "execution_count": 238,
   "id": "f6686c4c-41f2-4371-a0f0-75dd2191a7ae",
   "metadata": {},
   "outputs": [
    {
     "data": {
      "text/plain": [
       "71     5th\n",
       "702    3rd\n",
       "580    4th\n",
       "637    4th\n",
       "111    3rd\n",
       "174    4th\n",
       "490    3rd\n",
       "118    5th\n",
       "18     3rd\n",
       "331    4th\n",
       "Name: Fare, dtype: category\n",
       "Categories (5, object): ['1st' < '2nd' < '3rd' < '4th' < '5th']"
      ]
     },
     "execution_count": 238,
     "metadata": {},
     "output_type": "execute_result"
    }
   ],
   "source": [
    "cat_fare(train_data)\n",
    "cat_fare(test_data)\n",
    "\n",
    "train_data['Fare'].sample(10)"
   ]
  },
  {
   "cell_type": "markdown",
   "id": "bdc0ad5a-5739-44a7-b3ac-75efbb17a291",
   "metadata": {},
   "source": [
    "#### Modificamos los nombres"
   ]
  },
  {
   "cell_type": "code",
   "execution_count": 239,
   "id": "96f914c7-02d0-4c0b-b3ed-5520bce9b4dd",
   "metadata": {},
   "outputs": [
    {
     "data": {
      "text/plain": [
       "216                Honkanen, Miss. Eliina\n",
       "613                      Horgan, Mr. John\n",
       "76                      Staneff, Mr. Ivan\n",
       "188                      Bourke, Mr. John\n",
       "56                      Rugg, Miss. Emily\n",
       "207           Albimona, Mr. Nassef Cassem\n",
       "38     Vander Planke, Miss. Augusta Maria\n",
       "621          Kimball, Mr. Edwin Nelson Jr\n",
       "673                 Wilhelms, Mr. Charles\n",
       "500                      Calic, Mr. Petar\n",
       "Name: Name, dtype: object"
      ]
     },
     "execution_count": 239,
     "metadata": {},
     "output_type": "execute_result"
    }
   ],
   "source": [
    "train_data['Name'].sample(10)"
   ]
  },
  {
   "cell_type": "code",
   "execution_count": 240,
   "id": "b86eaba8-80e9-410e-b38b-1540477722c2",
   "metadata": {},
   "outputs": [],
   "source": [
    "def extract_title(data):\n",
    "    data['Title'] = data['Name'].apply(lambda x : x.split(' ')[1])"
   ]
  },
  {
   "cell_type": "code",
   "execution_count": 241,
   "id": "5dbded26-6916-4711-9b20-b95476be5fcd",
   "metadata": {},
   "outputs": [
    {
     "data": {
      "text/plain": [
       "125    Master.\n",
       "712        Mr.\n",
       "370        Mr.\n",
       "54         Mr.\n",
       "238        Mr.\n",
       "74         Mr.\n",
       "850    Master.\n",
       "567       Mrs.\n",
       "604        Mr.\n",
       "236        Mr.\n",
       "Name: Title, dtype: object"
      ]
     },
     "execution_count": 241,
     "metadata": {},
     "output_type": "execute_result"
    }
   ],
   "source": [
    "extract_title(train_data)\n",
    "extract_title(test_data)\n",
    "\n",
    "train_data['Title'].sample(10)"
   ]
  },
  {
   "cell_type": "code",
   "execution_count": 242,
   "id": "148a70af-9f2f-4c93-8ec6-7f22daa21fb5",
   "metadata": {},
   "outputs": [
    {
     "data": {
      "text/plain": [
       "array(['Mr.', 'Mrs.', 'Miss.', 'Master.', 'Planke,', 'Don.', 'Rev.',\n",
       "       'Billiard,', 'der', 'Walle,', 'Dr.', 'Pelsmaeker,', 'Mulder,', 'y',\n",
       "       'Steen,', 'Carlo,', 'Mme.', 'Impe,', 'Ms.', 'Major.', 'Gordon,',\n",
       "       'Messemaeker,', 'Mlle.', 'Col.', 'Capt.', 'Velde,', 'the',\n",
       "       'Shawah,', 'Jonkheer.', 'Melkebeke,', 'Cruyssen,'], dtype=object)"
      ]
     },
     "execution_count": 242,
     "metadata": {},
     "output_type": "execute_result"
    }
   ],
   "source": [
    "train_data['Title'].unique()"
   ]
  },
  {
   "cell_type": "code",
   "execution_count": 243,
   "id": "ba598e2c-fa26-4d15-94dc-2417b0f83372",
   "metadata": {},
   "outputs": [
    {
     "data": {
      "text/html": [
       "<div>\n",
       "<style scoped>\n",
       "    .dataframe tbody tr th:only-of-type {\n",
       "        vertical-align: middle;\n",
       "    }\n",
       "\n",
       "    .dataframe tbody tr th {\n",
       "        vertical-align: top;\n",
       "    }\n",
       "\n",
       "    .dataframe thead th {\n",
       "        text-align: right;\n",
       "    }\n",
       "</style>\n",
       "<table border=\"1\" class=\"dataframe\">\n",
       "  <thead>\n",
       "    <tr style=\"text-align: right;\">\n",
       "      <th></th>\n",
       "      <th>PassengerId</th>\n",
       "      <th>Survived</th>\n",
       "      <th>Pclass</th>\n",
       "      <th>Name</th>\n",
       "      <th>Sex</th>\n",
       "      <th>Age</th>\n",
       "      <th>SibSp</th>\n",
       "      <th>Parch</th>\n",
       "      <th>Ticket</th>\n",
       "      <th>Fare</th>\n",
       "      <th>Cabin</th>\n",
       "      <th>Embarked</th>\n",
       "      <th>Title</th>\n",
       "    </tr>\n",
       "  </thead>\n",
       "  <tbody>\n",
       "    <tr>\n",
       "      <th>1</th>\n",
       "      <td>2</td>\n",
       "      <td>1</td>\n",
       "      <td>1</td>\n",
       "      <td>Cumings, Mrs. John Bradley (Florence Briggs Th...</td>\n",
       "      <td>female</td>\n",
       "      <td>Adult</td>\n",
       "      <td>1</td>\n",
       "      <td>0</td>\n",
       "      <td>PC 17599</td>\n",
       "      <td>5th</td>\n",
       "      <td>C</td>\n",
       "      <td>C</td>\n",
       "      <td>Mrs.</td>\n",
       "    </tr>\n",
       "    <tr>\n",
       "      <th>589</th>\n",
       "      <td>590</td>\n",
       "      <td>0</td>\n",
       "      <td>3</td>\n",
       "      <td>Murdlin, Mr. Joseph</td>\n",
       "      <td>male</td>\n",
       "      <td>Unknown</td>\n",
       "      <td>0</td>\n",
       "      <td>0</td>\n",
       "      <td>A./5. 3235</td>\n",
       "      <td>2nd</td>\n",
       "      <td>N</td>\n",
       "      <td>S</td>\n",
       "      <td>Mr.</td>\n",
       "    </tr>\n",
       "    <tr>\n",
       "      <th>230</th>\n",
       "      <td>231</td>\n",
       "      <td>1</td>\n",
       "      <td>1</td>\n",
       "      <td>Harris, Mrs. Henry Birkhardt (Irene Wallach)</td>\n",
       "      <td>female</td>\n",
       "      <td>Adult</td>\n",
       "      <td>1</td>\n",
       "      <td>0</td>\n",
       "      <td>36973</td>\n",
       "      <td>5th</td>\n",
       "      <td>C</td>\n",
       "      <td>S</td>\n",
       "      <td>Mrs.</td>\n",
       "    </tr>\n",
       "    <tr>\n",
       "      <th>802</th>\n",
       "      <td>803</td>\n",
       "      <td>1</td>\n",
       "      <td>1</td>\n",
       "      <td>Carter, Master. William Thornton II</td>\n",
       "      <td>male</td>\n",
       "      <td>Child</td>\n",
       "      <td>1</td>\n",
       "      <td>2</td>\n",
       "      <td>113760</td>\n",
       "      <td>5th</td>\n",
       "      <td>B</td>\n",
       "      <td>S</td>\n",
       "      <td>Master.</td>\n",
       "    </tr>\n",
       "    <tr>\n",
       "      <th>701</th>\n",
       "      <td>702</td>\n",
       "      <td>1</td>\n",
       "      <td>1</td>\n",
       "      <td>Silverthorne, Mr. Spencer Victor</td>\n",
       "      <td>male</td>\n",
       "      <td>Adult</td>\n",
       "      <td>0</td>\n",
       "      <td>0</td>\n",
       "      <td>PC 17475</td>\n",
       "      <td>4th</td>\n",
       "      <td>E</td>\n",
       "      <td>S</td>\n",
       "      <td>Mr.</td>\n",
       "    </tr>\n",
       "  </tbody>\n",
       "</table>\n",
       "</div>"
      ],
      "text/plain": [
       "     PassengerId  Survived  Pclass  \\\n",
       "1              2         1       1   \n",
       "589          590         0       3   \n",
       "230          231         1       1   \n",
       "802          803         1       1   \n",
       "701          702         1       1   \n",
       "\n",
       "                                                  Name     Sex      Age  \\\n",
       "1    Cumings, Mrs. John Bradley (Florence Briggs Th...  female    Adult   \n",
       "589                                Murdlin, Mr. Joseph    male  Unknown   \n",
       "230       Harris, Mrs. Henry Birkhardt (Irene Wallach)  female    Adult   \n",
       "802                Carter, Master. William Thornton II    male    Child   \n",
       "701                   Silverthorne, Mr. Spencer Victor    male    Adult   \n",
       "\n",
       "     SibSp  Parch      Ticket Fare Cabin Embarked    Title  \n",
       "1        1      0    PC 17599  5th     C        C     Mrs.  \n",
       "589      0      0  A./5. 3235  2nd     N        S      Mr.  \n",
       "230      1      0       36973  5th     C        S     Mrs.  \n",
       "802      1      2      113760  5th     B        S  Master.  \n",
       "701      0      0    PC 17475  4th     E        S      Mr.  "
      ]
     },
     "execution_count": 243,
     "metadata": {},
     "output_type": "execute_result"
    }
   ],
   "source": [
    "train_data.sample(5)"
   ]
  },
  {
   "cell_type": "markdown",
   "id": "612ef384-b3e6-4717-97b5-1e0b60e5ccdb",
   "metadata": {},
   "source": [
    "### Eliminamos las columnas no necesarias (Name, Ticket)"
   ]
  },
  {
   "cell_type": "code",
   "execution_count": 244,
   "id": "416665fc-5368-4d78-944c-af45de121017",
   "metadata": {},
   "outputs": [],
   "source": [
    "def drop_columns(data, columns):\n",
    "    data.drop(columns, axis = 1, inplace=True)"
   ]
  },
  {
   "cell_type": "code",
   "execution_count": 245,
   "id": "8fd08e1a-81cf-4b6c-afdb-8d4e69fde4d8",
   "metadata": {},
   "outputs": [
    {
     "data": {
      "text/html": [
       "<div>\n",
       "<style scoped>\n",
       "    .dataframe tbody tr th:only-of-type {\n",
       "        vertical-align: middle;\n",
       "    }\n",
       "\n",
       "    .dataframe tbody tr th {\n",
       "        vertical-align: top;\n",
       "    }\n",
       "\n",
       "    .dataframe thead th {\n",
       "        text-align: right;\n",
       "    }\n",
       "</style>\n",
       "<table border=\"1\" class=\"dataframe\">\n",
       "  <thead>\n",
       "    <tr style=\"text-align: right;\">\n",
       "      <th></th>\n",
       "      <th>PassengerId</th>\n",
       "      <th>Survived</th>\n",
       "      <th>Pclass</th>\n",
       "      <th>Sex</th>\n",
       "      <th>Age</th>\n",
       "      <th>SibSp</th>\n",
       "      <th>Fare</th>\n",
       "      <th>Cabin</th>\n",
       "      <th>Title</th>\n",
       "    </tr>\n",
       "  </thead>\n",
       "  <tbody>\n",
       "    <tr>\n",
       "      <th>159</th>\n",
       "      <td>160</td>\n",
       "      <td>0</td>\n",
       "      <td>3</td>\n",
       "      <td>male</td>\n",
       "      <td>Unknown</td>\n",
       "      <td>8</td>\n",
       "      <td>5th</td>\n",
       "      <td>N</td>\n",
       "      <td>Master.</td>\n",
       "    </tr>\n",
       "    <tr>\n",
       "      <th>696</th>\n",
       "      <td>697</td>\n",
       "      <td>0</td>\n",
       "      <td>3</td>\n",
       "      <td>male</td>\n",
       "      <td>Adult</td>\n",
       "      <td>0</td>\n",
       "      <td>2nd</td>\n",
       "      <td>N</td>\n",
       "      <td>Mr.</td>\n",
       "    </tr>\n",
       "    <tr>\n",
       "      <th>232</th>\n",
       "      <td>233</td>\n",
       "      <td>0</td>\n",
       "      <td>2</td>\n",
       "      <td>male</td>\n",
       "      <td>Adult</td>\n",
       "      <td>0</td>\n",
       "      <td>3rd</td>\n",
       "      <td>N</td>\n",
       "      <td>Mr.</td>\n",
       "    </tr>\n",
       "    <tr>\n",
       "      <th>456</th>\n",
       "      <td>457</td>\n",
       "      <td>0</td>\n",
       "      <td>1</td>\n",
       "      <td>male</td>\n",
       "      <td>Elderly</td>\n",
       "      <td>0</td>\n",
       "      <td>4th</td>\n",
       "      <td>E</td>\n",
       "      <td>Mr.</td>\n",
       "    </tr>\n",
       "    <tr>\n",
       "      <th>38</th>\n",
       "      <td>39</td>\n",
       "      <td>0</td>\n",
       "      <td>3</td>\n",
       "      <td>female</td>\n",
       "      <td>Teenager</td>\n",
       "      <td>2</td>\n",
       "      <td>3rd</td>\n",
       "      <td>N</td>\n",
       "      <td>Planke,</td>\n",
       "    </tr>\n",
       "  </tbody>\n",
       "</table>\n",
       "</div>"
      ],
      "text/plain": [
       "     PassengerId  Survived  Pclass     Sex       Age  SibSp Fare Cabin  \\\n",
       "159          160         0       3    male   Unknown      8  5th     N   \n",
       "696          697         0       3    male     Adult      0  2nd     N   \n",
       "232          233         0       2    male     Adult      0  3rd     N   \n",
       "456          457         0       1    male   Elderly      0  4th     E   \n",
       "38            39         0       3  female  Teenager      2  3rd     N   \n",
       "\n",
       "       Title  \n",
       "159  Master.  \n",
       "696      Mr.  \n",
       "232      Mr.  \n",
       "456      Mr.  \n",
       "38   Planke,  "
      ]
     },
     "execution_count": 245,
     "metadata": {},
     "output_type": "execute_result"
    }
   ],
   "source": [
    "columns_to_drop = ['Name', 'Ticket', 'Embarked', 'Parch']\n",
    "\n",
    "drop_columns(train_data, columns_to_drop)\n",
    "drop_columns(test_data,columns_to_drop)\n",
    "\n",
    "train_data.sample(5)"
   ]
  },
  {
   "cell_type": "markdown",
   "id": "415944b6-c1d6-43f9-9bd7-b82f21299cf4",
   "metadata": {},
   "source": [
    "#### analizamos posibles relaciones entre las columnas\n"
   ]
  },
  {
   "cell_type": "code",
   "execution_count": 246,
   "id": "e1bd7b50-0cf9-461f-92ae-7bbe2aa25cff",
   "metadata": {},
   "outputs": [
    {
     "data": {
      "text/plain": [
       "<AxesSubplot:xlabel='Age', ylabel='Survived'>"
      ]
     },
     "execution_count": 246,
     "metadata": {},
     "output_type": "execute_result"
    },
    {
     "data": {
      "image/png": "[encoded data removed]",
      "text/plain": [
       "<Figure size 432x288 with 1 Axes>"
      ]
     },
     "metadata": {},
     "output_type": "display_data"
    }
   ],
   "source": [
    "sns.barplot(x='Age',y='Survived',hue='Sex',data=train_data)"
   ]
  },
  {
   "cell_type": "code",
   "execution_count": 247,
   "id": "9656d8cf-6dc4-4a9f-b3f8-e1fa6852b035",
   "metadata": {},
   "outputs": [
    {
     "data": {
      "text/plain": [
       "<AxesSubplot:xlabel='Fare', ylabel='Survived'>"
      ]
     },
     "execution_count": 247,
     "metadata": {},
     "output_type": "execute_result"
    },
    {
     "data": {
      "image/png": "[encoded data removed]",
      "text/plain": [
       "<Figure size 432x288 with 1 Axes>"
      ]
     },
     "metadata": {},
     "output_type": "display_data"
    }
   ],
   "source": [
    "sns.barplot(x='Fare',y='Survived',hue='Sex',data=train_data)"
   ]
  },
  {
   "cell_type": "code",
   "execution_count": 248,
   "id": "876a0e00-6c72-4625-8209-c42687e0936a",
   "metadata": {},
   "outputs": [
    {
     "data": {
      "text/html": [
       "<div>\n",
       "<style scoped>\n",
       "    .dataframe tbody tr th:only-of-type {\n",
       "        vertical-align: middle;\n",
       "    }\n",
       "\n",
       "    .dataframe tbody tr th {\n",
       "        vertical-align: top;\n",
       "    }\n",
       "\n",
       "    .dataframe thead th {\n",
       "        text-align: right;\n",
       "    }\n",
       "</style>\n",
       "<table border=\"1\" class=\"dataframe\">\n",
       "  <thead>\n",
       "    <tr style=\"text-align: right;\">\n",
       "      <th></th>\n",
       "      <th>PassengerId</th>\n",
       "      <th>Survived</th>\n",
       "      <th>Pclass</th>\n",
       "      <th>Sex</th>\n",
       "      <th>Age</th>\n",
       "      <th>SibSp</th>\n",
       "      <th>Fare</th>\n",
       "      <th>Cabin</th>\n",
       "      <th>Title</th>\n",
       "    </tr>\n",
       "  </thead>\n",
       "  <tbody>\n",
       "    <tr>\n",
       "      <th>0</th>\n",
       "      <td>1</td>\n",
       "      <td>0</td>\n",
       "      <td>3</td>\n",
       "      <td>male</td>\n",
       "      <td>Young Adult</td>\n",
       "      <td>1</td>\n",
       "      <td>1st</td>\n",
       "      <td>N</td>\n",
       "      <td>Mr.</td>\n",
       "    </tr>\n",
       "    <tr>\n",
       "      <th>1</th>\n",
       "      <td>2</td>\n",
       "      <td>1</td>\n",
       "      <td>1</td>\n",
       "      <td>female</td>\n",
       "      <td>Adult</td>\n",
       "      <td>1</td>\n",
       "      <td>5th</td>\n",
       "      <td>C</td>\n",
       "      <td>Mrs.</td>\n",
       "    </tr>\n",
       "    <tr>\n",
       "      <th>2</th>\n",
       "      <td>3</td>\n",
       "      <td>1</td>\n",
       "      <td>3</td>\n",
       "      <td>female</td>\n",
       "      <td>Young Adult</td>\n",
       "      <td>0</td>\n",
       "      <td>2nd</td>\n",
       "      <td>N</td>\n",
       "      <td>Miss.</td>\n",
       "    </tr>\n",
       "    <tr>\n",
       "      <th>3</th>\n",
       "      <td>4</td>\n",
       "      <td>1</td>\n",
       "      <td>1</td>\n",
       "      <td>female</td>\n",
       "      <td>Adult</td>\n",
       "      <td>1</td>\n",
       "      <td>5th</td>\n",
       "      <td>C</td>\n",
       "      <td>Mrs.</td>\n",
       "    </tr>\n",
       "    <tr>\n",
       "      <th>4</th>\n",
       "      <td>5</td>\n",
       "      <td>0</td>\n",
       "      <td>3</td>\n",
       "      <td>male</td>\n",
       "      <td>Adult</td>\n",
       "      <td>0</td>\n",
       "      <td>2nd</td>\n",
       "      <td>N</td>\n",
       "      <td>Mr.</td>\n",
       "    </tr>\n",
       "  </tbody>\n",
       "</table>\n",
       "</div>"
      ],
      "text/plain": [
       "   PassengerId  Survived  Pclass     Sex          Age  SibSp Fare Cabin  Title\n",
       "0            1         0       3    male  Young Adult      1  1st     N    Mr.\n",
       "1            2         1       1  female        Adult      1  5th     C   Mrs.\n",
       "2            3         1       3  female  Young Adult      0  2nd     N  Miss.\n",
       "3            4         1       1  female        Adult      1  5th     C   Mrs.\n",
       "4            5         0       3    male        Adult      0  2nd     N    Mr."
      ]
     },
     "execution_count": 248,
     "metadata": {},
     "output_type": "execute_result"
    }
   ],
   "source": [
    "train_data.head(5)"
   ]
  },
  {
   "cell_type": "markdown",
   "id": "721ac792-9079-4903-9238-fcb9e37f0910",
   "metadata": {},
   "source": [
    "### Preprocess the data, label encoding to numeric"
   ]
  },
  {
   "cell_type": "code",
   "execution_count": 249,
   "id": "84b1cacd-5a35-4d59-9126-6635eee40125",
   "metadata": {},
   "outputs": [],
   "source": [
    "def encode_features(df_train, df_test, features):\n",
    "    df_combined = pd.concat([df_train[features], df_test[features]])\n",
    "    \n",
    "    for feature in features:\n",
    "        le = preprocessing.LabelEncoder()\n",
    "        le = le.fit(df_combined[feature])\n",
    "        df_train[feature] = le.transform(df_train[feature])\n",
    "        df_test[feature] = le.transform(df_test[feature])"
   ]
  },
  {
   "cell_type": "code",
   "execution_count": 250,
   "id": "b7ef8185-b5d8-4837-ae00-e054b0e8a4ad",
   "metadata": {},
   "outputs": [
    {
     "data": {
      "text/html": [
       "<div>\n",
       "<style scoped>\n",
       "    .dataframe tbody tr th:only-of-type {\n",
       "        vertical-align: middle;\n",
       "    }\n",
       "\n",
       "    .dataframe tbody tr th {\n",
       "        vertical-align: top;\n",
       "    }\n",
       "\n",
       "    .dataframe thead th {\n",
       "        text-align: right;\n",
       "    }\n",
       "</style>\n",
       "<table border=\"1\" class=\"dataframe\">\n",
       "  <thead>\n",
       "    <tr style=\"text-align: right;\">\n",
       "      <th></th>\n",
       "      <th>PassengerId</th>\n",
       "      <th>Survived</th>\n",
       "      <th>Pclass</th>\n",
       "      <th>Sex</th>\n",
       "      <th>Age</th>\n",
       "      <th>SibSp</th>\n",
       "      <th>Fare</th>\n",
       "      <th>Cabin</th>\n",
       "      <th>Title</th>\n",
       "    </tr>\n",
       "  </thead>\n",
       "  <tbody>\n",
       "    <tr>\n",
       "      <th>0</th>\n",
       "      <td>1</td>\n",
       "      <td>0</td>\n",
       "      <td>3</td>\n",
       "      <td>1</td>\n",
       "      <td>5</td>\n",
       "      <td>1</td>\n",
       "      <td>0</td>\n",
       "      <td>7</td>\n",
       "      <td>19</td>\n",
       "    </tr>\n",
       "    <tr>\n",
       "      <th>1</th>\n",
       "      <td>2</td>\n",
       "      <td>1</td>\n",
       "      <td>1</td>\n",
       "      <td>0</td>\n",
       "      <td>0</td>\n",
       "      <td>1</td>\n",
       "      <td>4</td>\n",
       "      <td>2</td>\n",
       "      <td>20</td>\n",
       "    </tr>\n",
       "    <tr>\n",
       "      <th>2</th>\n",
       "      <td>3</td>\n",
       "      <td>1</td>\n",
       "      <td>3</td>\n",
       "      <td>0</td>\n",
       "      <td>5</td>\n",
       "      <td>0</td>\n",
       "      <td>1</td>\n",
       "      <td>7</td>\n",
       "      <td>16</td>\n",
       "    </tr>\n",
       "    <tr>\n",
       "      <th>3</th>\n",
       "      <td>4</td>\n",
       "      <td>1</td>\n",
       "      <td>1</td>\n",
       "      <td>0</td>\n",
       "      <td>0</td>\n",
       "      <td>1</td>\n",
       "      <td>4</td>\n",
       "      <td>2</td>\n",
       "      <td>20</td>\n",
       "    </tr>\n",
       "    <tr>\n",
       "      <th>4</th>\n",
       "      <td>5</td>\n",
       "      <td>0</td>\n",
       "      <td>3</td>\n",
       "      <td>1</td>\n",
       "      <td>0</td>\n",
       "      <td>0</td>\n",
       "      <td>1</td>\n",
       "      <td>7</td>\n",
       "      <td>19</td>\n",
       "    </tr>\n",
       "  </tbody>\n",
       "</table>\n",
       "</div>"
      ],
      "text/plain": [
       "   PassengerId  Survived  Pclass  Sex  Age  SibSp  Fare  Cabin  Title\n",
       "0            1         0       3    1    5      1     0      7     19\n",
       "1            2         1       1    0    0      1     4      2     20\n",
       "2            3         1       3    0    5      0     1      7     16\n",
       "3            4         1       1    0    0      1     4      2     20\n",
       "4            5         0       3    1    0      0     1      7     19"
      ]
     },
     "execution_count": 250,
     "metadata": {},
     "output_type": "execute_result"
    }
   ],
   "source": [
    "features = ['Sex', 'Age', 'Fare', 'Cabin', 'Title']\n",
    "encode_features(train_data, test_data, features)\n",
    "train_data.head(5)"
   ]
  },
  {
   "cell_type": "markdown",
   "id": "efb67b2b-9cd6-4ca4-ac43-2bd87b8cbe6b",
   "metadata": {},
   "source": [
    "### split the data"
   ]
  },
  {
   "cell_type": "code",
   "execution_count": 251,
   "id": "f2d411eb-37d6-4447-97b7-604e7af4a699",
   "metadata": {},
   "outputs": [],
   "source": [
    "X = train_data.drop('Survived', axis=1)\n",
    "Y = train_data['Survived']\n",
    "\n",
    "seed = 64\n",
    "\n",
    "X_train, X_val, Y_train, Y_val = train_test_split(X, Y, test_size=0.2, random_state=seed)"
   ]
  },
  {
   "cell_type": "code",
   "execution_count": 252,
   "id": "5e60db9a-9bc7-4135-b7a5-db83c20cf2b9",
   "metadata": {},
   "outputs": [
    {
     "name": "stdout",
     "output_type": "stream",
     "text": [
      "(712, 8)\n",
      "(179, 8)\n",
      "(712,)\n",
      "(179,)\n"
     ]
    }
   ],
   "source": [
    "print(X_train.shape)\n",
    "print(X_val.shape)\n",
    "\n",
    "print(Y_train.shape)\n",
    "print(Y_val.shape)"
   ]
  },
  {
   "cell_type": "markdown",
   "id": "1b163c35-7b7a-45ba-8b26-4e89f90380bb",
   "metadata": {},
   "source": [
    "### Create the model (DecisionTreeClassifier)"
   ]
  },
  {
   "cell_type": "code",
   "execution_count": 253,
   "id": "a2967496-656c-4f5a-986b-66161f477bd4",
   "metadata": {},
   "outputs": [
    {
     "data": {
      "text/plain": [
       "DecisionTreeClassifier()"
      ]
     },
     "execution_count": 253,
     "metadata": {},
     "output_type": "execute_result"
    }
   ],
   "source": [
    "model = DecisionTreeClassifier()\n",
    "model.fit(X_train, Y_train)"
   ]
  },
  {
   "cell_type": "code",
   "execution_count": 254,
   "id": "8356c081-fbf2-452b-a2cf-0f291c92730f",
   "metadata": {},
   "outputs": [
    {
     "name": "stdout",
     "output_type": "stream",
     "text": [
      "[0 1 1 1 0 0 0 0 0 1 0 1 0 0 1 0 0 0 0 0 0 0 1 0 1 1 0 1 0 1 0 1 0 0 0 1 1\n",
      " 0 1 0 0 1 1 0 0 1 1 1 0 0 0 1 0 1 1 0 0 0 0 0 1 0 0 0 1 0 0 1 1 0 0 0 1 0\n",
      " 0 0 1 0 1 1 0 1 0 0 1 0 0 0 1 0 1 0 0 0 0 1 0 0 0 1 0 0 0 1 0 1 0 1 0 0 1\n",
      " 0 1 0 1 0 1 0 1 0 1 0 1 0 0 0 0 1 0 1 0 0 0 1 1 0 0 0 0 0 0 1 1 0 1 1 1 1\n",
      " 0 1 1 1 1 0 0 1 1 0 0 0 0 0 0 1 0 1 1 0 1 0 1 0 0 0 0 0 1 1 0]\n",
      "0.7486033519553073\n"
     ]
    }
   ],
   "source": [
    "predict = model.predict(X_val)\n",
    "\n",
    "print(predict)\n",
    "print(accuracy_score(predict, Y_val))"
   ]
  },
  {
   "cell_type": "code",
   "execution_count": 255,
   "id": "b3c61e58-95f6-45a9-a2d5-c8ed9e948f23",
   "metadata": {},
   "outputs": [
    {
     "name": "stdout",
     "output_type": "stream",
     "text": [
      "MAE:  0.2514\n",
      "MSE:  0.2514\n",
      "RMSE: 0.5014\n",
      "R2:   -0.0410\n"
     ]
    }
   ],
   "source": [
    "# Cálculo de las métricas de evaluación.\n",
    "MAE = metrics.mean_absolute_error(Y_val, predict)\n",
    "MSE = metrics.mean_squared_error(Y_val, predict, squared=True)\n",
    "RMSE = metrics.mean_squared_error(Y_val, predict, squared=False)\n",
    "R2 = metrics.r2_score(Y_val, predict)\n",
    "\n",
    "print('MAE:  %.4f' % MAE)\n",
    "print('MSE:  %.4f' % MSE)\n",
    "print('RMSE: %.4f' % RMSE)\n",
    "print('R2:   %.4f' % R2)"
   ]
  },
  {
   "cell_type": "code",
   "execution_count": 256,
   "id": "cdeaa759-c143-42d5-8aa6-9f0c6fab909c",
   "metadata": {},
   "outputs": [
    {
     "name": "stdout",
     "output_type": "stream",
     "text": [
      "[[85 21]\n",
      " [24 49]]\n"
     ]
    }
   ],
   "source": [
    "print(confusion_matrix(Y_val, predict))"
   ]
  },
  {
   "cell_type": "code",
   "execution_count": 257,
   "id": "f85b9d86-cbff-4632-b013-e74ee11e68df",
   "metadata": {},
   "outputs": [
    {
     "name": "stdout",
     "output_type": "stream",
     "text": [
      "              precision    recall  f1-score   support\n",
      "\n",
      "           0       0.78      0.80      0.79       106\n",
      "           1       0.70      0.67      0.69        73\n",
      "\n",
      "    accuracy                           0.75       179\n",
      "   macro avg       0.74      0.74      0.74       179\n",
      "weighted avg       0.75      0.75      0.75       179\n",
      "\n"
     ]
    }
   ],
   "source": [
    "print(classification_report(Y_val, predict))"
   ]
  },
  {
   "cell_type": "markdown",
   "id": "399f0147-c609-4a3d-af91-2393aafef104",
   "metadata": {},
   "source": [
    "### Realizamos las predicciones"
   ]
  },
  {
   "cell_type": "code",
   "execution_count": 270,
   "id": "597824fa-fdb4-47b4-9a17-57e62ec2c810",
   "metadata": {},
   "outputs": [
    {
     "name": "stdout",
     "output_type": "stream",
     "text": [
      "[0 0 0 0 0 0 1 0 1 0 0 0 1 0 1 1 0 0 0 0 0 1 1 0 1 0 1 0 1 0 0 0 0 0 0 0 0\n",
      " 0 0 0 0 0 0 1 1 0 1 0 1 0 0 0 1 1 0 0 0 0 0 1 0 0 0 1 1 1 0 0 0 1 1 0 0 0\n",
      " 1 0 0 1 0 1 1 0 0 0 0 0 0 0 1 1 0 0 1 0 0 0 1 0 0 0 1 0 0 0 0 0 0 0 0 0 0\n",
      " 1 1 1 1 0 0 1 0 1 1 0 1 0 0 0 0 0 0 0 0 1 0 0 0 0 0 0 0 0 0 1 0 0 0 0 1 0\n",
      " 0 0 1 0 0 0 0 0 1 0 0 0 1 1 1 0 0 0 0 0 1 0 0 0 0 0 0 1 1 0 1 1 0 0 1 0 1\n",
      " 0 1 0 0 0 0 0 0 0 1 0 1 1 0 0 0 1 0 1 0 0 0 0 1 0 0 0 0 0 0 0 0 0 1 0 1 0\n",
      " 1 0 1 0 0 1 0 0 0 1 0 0 0 0 0 0 1 1 1 1 0 0 0 1 1 0 1 0 1 0 0 0 0 0 0 0 1\n",
      " 0 0 0 1 1 0 0 0 0 0 0 0 0 1 0 0 1 0 0 0 0 0 1 1 1 1 0 0 1 0 0 0 1 0 1 0 0\n",
      " 1 0 0 0 0 0 0 0 1 1 0 1 0 0 0 0 0 0 1 1 0 0 0 0 0 0 0 0 1 0 1 0 0 0 1 1 0\n",
      " 0 0 0 0 0 0 1 0 0 0 1 0 1 0 1 0 1 1 0 0 0 1 1 1 0 0 0 0 1 1 0 1 0 0 0 1 0\n",
      " 0 1 0 0 1 1 0 0 0 0 0 0 0 0 0 1 0 0 0 0 0 1 1 0 0 1 0 1 0 0 1 0 1 0 1 0 0\n",
      " 0 1 1 1 1 1 0 1 0 0 0]\n"
     ]
    }
   ],
   "source": [
    "final_predictions = random_forest.predict(test_data)\n",
    "print(final_predictions)"
   ]
  },
  {
   "cell_type": "markdown",
   "id": "b75766da-6d4d-4323-9040-df90b4349cfd",
   "metadata": {},
   "source": [
    "#### Save results"
   ]
  },
  {
   "cell_type": "code",
   "execution_count": 271,
   "id": "c61fc9db-6beb-472b-85f8-cacf296b0158",
   "metadata": {},
   "outputs": [
    {
     "data": {
      "text/html": [
       "<div>\n",
       "<style scoped>\n",
       "    .dataframe tbody tr th:only-of-type {\n",
       "        vertical-align: middle;\n",
       "    }\n",
       "\n",
       "    .dataframe tbody tr th {\n",
       "        vertical-align: top;\n",
       "    }\n",
       "\n",
       "    .dataframe thead th {\n",
       "        text-align: right;\n",
       "    }\n",
       "</style>\n",
       "<table border=\"1\" class=\"dataframe\">\n",
       "  <thead>\n",
       "    <tr style=\"text-align: right;\">\n",
       "      <th></th>\n",
       "      <th>PassengerId</th>\n",
       "    </tr>\n",
       "  </thead>\n",
       "  <tbody>\n",
       "    <tr>\n",
       "      <th>0</th>\n",
       "      <td>892</td>\n",
       "    </tr>\n",
       "    <tr>\n",
       "      <th>1</th>\n",
       "      <td>893</td>\n",
       "    </tr>\n",
       "    <tr>\n",
       "      <th>2</th>\n",
       "      <td>894</td>\n",
       "    </tr>\n",
       "    <tr>\n",
       "      <th>3</th>\n",
       "      <td>895</td>\n",
       "    </tr>\n",
       "    <tr>\n",
       "      <th>4</th>\n",
       "      <td>896</td>\n",
       "    </tr>\n",
       "  </tbody>\n",
       "</table>\n",
       "</div>"
      ],
      "text/plain": [
       "   PassengerId\n",
       "0          892\n",
       "1          893\n",
       "2          894\n",
       "3          895\n",
       "4          896"
      ]
     },
     "metadata": {},
     "output_type": "display_data"
    }
   ],
   "source": [
    "dt_aux2 = pd.DataFrame(test_data['PassengerId'])\n",
    "\n",
    "display(dt_aux2.head())"
   ]
  },
  {
   "cell_type": "code",
   "execution_count": 272,
   "id": "b41bb5dd-3972-4830-b200-ff314ef98d0c",
   "metadata": {},
   "outputs": [
    {
     "data": {
      "text/html": [
       "<div>\n",
       "<style scoped>\n",
       "    .dataframe tbody tr th:only-of-type {\n",
       "        vertical-align: middle;\n",
       "    }\n",
       "\n",
       "    .dataframe tbody tr th {\n",
       "        vertical-align: top;\n",
       "    }\n",
       "\n",
       "    .dataframe thead th {\n",
       "        text-align: right;\n",
       "    }\n",
       "</style>\n",
       "<table border=\"1\" class=\"dataframe\">\n",
       "  <thead>\n",
       "    <tr style=\"text-align: right;\">\n",
       "      <th></th>\n",
       "      <th>Survived</th>\n",
       "    </tr>\n",
       "  </thead>\n",
       "  <tbody>\n",
       "    <tr>\n",
       "      <th>0</th>\n",
       "      <td>0</td>\n",
       "    </tr>\n",
       "    <tr>\n",
       "      <th>1</th>\n",
       "      <td>0</td>\n",
       "    </tr>\n",
       "    <tr>\n",
       "      <th>2</th>\n",
       "      <td>0</td>\n",
       "    </tr>\n",
       "    <tr>\n",
       "      <th>3</th>\n",
       "      <td>0</td>\n",
       "    </tr>\n",
       "    <tr>\n",
       "      <th>4</th>\n",
       "      <td>0</td>\n",
       "    </tr>\n",
       "  </tbody>\n",
       "</table>\n",
       "</div>"
      ],
      "text/plain": [
       "   Survived\n",
       "0         0\n",
       "1         0\n",
       "2         0\n",
       "3         0\n",
       "4         0"
      ]
     },
     "metadata": {},
     "output_type": "display_data"
    }
   ],
   "source": [
    "dt_aux1  = pd.DataFrame(final_predictions)\n",
    "\n",
    "dt_results = pd.DataFrame()\n",
    "dt_results['Survived'] = dt_aux1\n",
    "\n",
    "display(dt_results.head())"
   ]
  },
  {
   "cell_type": "code",
   "execution_count": 273,
   "id": "09829c79-ff80-4ecd-91d6-c519a7e26f3b",
   "metadata": {},
   "outputs": [
    {
     "data": {
      "text/html": [
       "<div>\n",
       "<style scoped>\n",
       "    .dataframe tbody tr th:only-of-type {\n",
       "        vertical-align: middle;\n",
       "    }\n",
       "\n",
       "    .dataframe tbody tr th {\n",
       "        vertical-align: top;\n",
       "    }\n",
       "\n",
       "    .dataframe thead th {\n",
       "        text-align: right;\n",
       "    }\n",
       "</style>\n",
       "<table border=\"1\" class=\"dataframe\">\n",
       "  <thead>\n",
       "    <tr style=\"text-align: right;\">\n",
       "      <th></th>\n",
       "      <th>PassengerId</th>\n",
       "      <th>Survived</th>\n",
       "    </tr>\n",
       "  </thead>\n",
       "  <tbody>\n",
       "    <tr>\n",
       "      <th>0</th>\n",
       "      <td>892</td>\n",
       "      <td>0</td>\n",
       "    </tr>\n",
       "    <tr>\n",
       "      <th>1</th>\n",
       "      <td>893</td>\n",
       "      <td>0</td>\n",
       "    </tr>\n",
       "    <tr>\n",
       "      <th>2</th>\n",
       "      <td>894</td>\n",
       "      <td>0</td>\n",
       "    </tr>\n",
       "    <tr>\n",
       "      <th>3</th>\n",
       "      <td>895</td>\n",
       "      <td>0</td>\n",
       "    </tr>\n",
       "    <tr>\n",
       "      <th>4</th>\n",
       "      <td>896</td>\n",
       "      <td>0</td>\n",
       "    </tr>\n",
       "    <tr>\n",
       "      <th>5</th>\n",
       "      <td>897</td>\n",
       "      <td>0</td>\n",
       "    </tr>\n",
       "    <tr>\n",
       "      <th>6</th>\n",
       "      <td>898</td>\n",
       "      <td>1</td>\n",
       "    </tr>\n",
       "    <tr>\n",
       "      <th>7</th>\n",
       "      <td>899</td>\n",
       "      <td>0</td>\n",
       "    </tr>\n",
       "    <tr>\n",
       "      <th>8</th>\n",
       "      <td>900</td>\n",
       "      <td>1</td>\n",
       "    </tr>\n",
       "    <tr>\n",
       "      <th>9</th>\n",
       "      <td>901</td>\n",
       "      <td>0</td>\n",
       "    </tr>\n",
       "  </tbody>\n",
       "</table>\n",
       "</div>"
      ],
      "text/plain": [
       "   PassengerId  Survived\n",
       "0          892         0\n",
       "1          893         0\n",
       "2          894         0\n",
       "3          895         0\n",
       "4          896         0\n",
       "5          897         0\n",
       "6          898         1\n",
       "7          899         0\n",
       "8          900         1\n",
       "9          901         0"
      ]
     },
     "metadata": {},
     "output_type": "display_data"
    }
   ],
   "source": [
    "final_results = pd.concat([dt_aux2, dt_results], join=\"outer\", axis=1)\n",
    "display(final_results.head(10))"
   ]
  },
  {
   "cell_type": "code",
   "execution_count": 274,
   "id": "89090662-d84b-429b-b3bf-0d49c0f0a440",
   "metadata": {},
   "outputs": [],
   "source": [
    "final_results.to_csv('results2.csv', index=False)"
   ]
  },
  {
   "cell_type": "code",
   "execution_count": 275,
   "id": "1e6ef39a-8d9e-4457-997c-a40f40f95d6a",
   "metadata": {},
   "outputs": [
    {
     "data": {
      "image/png": "[encoded data removed]",
      "text/plain": [
       "<Figure size 1008x504 with 1 Axes>"
      ]
     },
     "metadata": {},
     "output_type": "display_data"
    }
   ],
   "source": [
    "from sklearn.metrics import precision_recall_curve\n",
    "\n",
    "# getting the probabilities of our predictions\n",
    "y_scores = random_forest.predict_proba(X_train)\n",
    "y_scores = y_scores[:,1]\n",
    "\n",
    "precision, recall, threshold = precision_recall_curve(Y_train, y_scores)\n",
    "def plot_precision_and_recall(precision, recall, threshold):\n",
    "    plt.plot(threshold, precision[:-1], \"r-\", label=\"precision\", linewidth=5)\n",
    "    plt.plot(threshold, recall[:-1], \"b\", label=\"recall\", linewidth=5)\n",
    "    plt.xlabel(\"threshold\", fontsize=19)\n",
    "    plt.legend(loc=\"upper right\", fontsize=19)\n",
    "    plt.ylim([0, 1])\n",
    "\n",
    "plt.figure(figsize=(14, 7))\n",
    "plot_precision_and_recall(precision, recall, threshold)\n",
    "plt.show()"
   ]
  },
  {
   "cell_type": "code",
   "execution_count": 276,
   "id": "4e77a1e2-c333-43f6-bc0b-63456226e9d5",
   "metadata": {},
   "outputs": [
    {
     "data": {
      "image/png": "[encoded data removed]",
      "text/plain": [
       "<Figure size 1008x504 with 1 Axes>"
      ]
     },
     "metadata": {},
     "output_type": "display_data"
    }
   ],
   "source": [
    "from sklearn.metrics import roc_curve\n",
    "# compute true positive rate and false positive rate\n",
    "false_positive_rate, true_positive_rate, thresholds = roc_curve(Y_train, y_scores)\n",
    "# plotting them against each other\n",
    "def plot_roc_curve(false_positive_rate, true_positive_rate, label=None):\n",
    "    plt.plot(false_positive_rate, true_positive_rate, linewidth=2, label=label)\n",
    "    plt.plot([0, 1], [0, 1], 'r', linewidth=4)\n",
    "    plt.axis([0, 1, 0, 1])\n",
    "    plt.xlabel('False Positive Rate (FPR)', fontsize=16)\n",
    "    plt.ylabel('True Positive Rate (TPR)', fontsize=16)\n",
    "\n",
    "plt.figure(figsize=(14, 7))\n",
    "plot_roc_curve(false_positive_rate, true_positive_rate)\n",
    "plt.show()"
   ]
  },
  {
   "cell_type": "code",
   "execution_count": 277,
   "id": "ae8bed96-085d-43c4-8521-8ad356bbb31c",
   "metadata": {},
   "outputs": [
    {
     "name": "stdout",
     "output_type": "stream",
     "text": [
      "ROC-AUC-Score: 1.0\n"
     ]
    }
   ],
   "source": [
    "from sklearn.metrics import roc_auc_score\n",
    "r_a_score = roc_auc_score(Y_train, y_scores)\n",
    "print(\"ROC-AUC-Score:\", r_a_score)"
   ]
  },
  {
   "cell_type": "markdown",
   "id": "dc7906e1-f8c7-45a3-b55b-8dcff8e69e5b",
   "metadata": {},
   "source": [
    "## Pruebas\n"
   ]
  },
  {
   "cell_type": "code",
   "execution_count": null,
   "id": "ad0dbead-2ed6-41ec-9636-0af0db8ab915",
   "metadata": {},
   "outputs": [
    {
     "name": "stdout",
     "output_type": "stream",
     "text": [
      "100.0 %\n"
     ]
    }
   ],
   "source": [
    "# Random Forest\n",
    "\n",
    "random_forest = RandomForestClassifier(n_estimators=100, oob_score = True)\n",
    "random_forest.fit(X_train, Y_train)\n",
    "Y_prediction = random_forest.predict(X_val)\n",
    "\n",
    "random_forest.score(X_train, Y_train)\n",
    "\n",
    "acc_random_forest = round(random_forest.score(X_train, Y_train) * 100, 2)\n",
    "print(round(acc_random_forest,2,), \"%\")"
   ]
  },
  {
   "cell_type": "code",
   "execution_count": null,
   "id": "8b84dd82-0050-4471-9708-495513ae9b61",
   "metadata": {},
   "outputs": [],
   "source": [
    "# SVM\n",
    "linear_svc = LinearSVC()\n",
    "linear_svc.fit(X_train, Y_train)\n",
    "\n",
    "Y_pred = linear_svc.predict(X_test)\n",
    "\n",
    "acc_linear_svc = round(linear_svc.score(X_train, Y_train) * 100, 2)"
   ]
  },
  {
   "cell_type": "code",
   "execution_count": null,
   "id": "badced4a-a650-4cbd-bda7-af555dc31568",
   "metadata": {},
   "outputs": [],
   "source": [
    "# KNN \n",
    "knn = KNeighborsClassifier(n_neighbors = 3) \n",
    "knn.fit(X_train, Y_train)  \n",
    "Y_pred = knn.predict(X_test)  \n",
    "acc_knn = round(knn.score(X_train, Y_train) * 100, 2)"
   ]
  },
  {
   "cell_type": "code",
   "execution_count": null,
   "id": "5a3deaa3-aa31-4537-9881-788ccad955ac",
   "metadata": {},
   "outputs": [],
   "source": [
    "# Logistic Regression\n",
    "logreg = LogisticRegression()\n",
    "logreg.fit(X_train, Y_train)\n",
    "\n",
    "Y_pred = logreg.predict(X_test)\n",
    "\n",
    "acc_log = round(logreg.score(X_train, Y_train) * 100, 2)"
   ]
  },
  {
   "cell_type": "code",
   "execution_count": null,
   "id": "a0a160ea-46ae-45a8-ab42-53dbf5a8985f",
   "metadata": {},
   "outputs": [],
   "source": [
    "# Stochastic Gradient Decent\n",
    "sgd = linear_model.SGDClassifier(max_iter=5, tol=None)\n",
    "sgd.fit(X_train, Y_train)\n",
    "Y_pred = sgd.predict(X_test)\n",
    "\n",
    "sgd.score(X_train, Y_train)\n",
    "\n",
    "acc_sgd = round(sgd.score(X_train, Y_train) * 100, 2)"
   ]
  },
  {
   "cell_type": "code",
   "execution_count": null,
   "id": "51db12d4-c6a6-48c5-9af8-eb0b227b7f5c",
   "metadata": {},
   "outputs": [],
   "source": [
    "# Gaussian Naive Bayes\n",
    "gaussian = GaussianNB() gaussian.fit(X_train, Y_train)  \n",
    "Y_pred = gaussian.predict(X_test)  \n",
    "acc_gaussian = round(gaussian.score(X_train, Y_train) * 100, 2)"
   ]
  },
  {
   "cell_type": "code",
   "execution_count": null,
   "id": "18c316a3-e31b-4db2-b5b5-1d5a7c376e1c",
   "metadata": {},
   "outputs": [],
   "source": [
    "results = pd.DataFrame({\n",
    "    'Model': ['Support Vector Machines', 'KNN', 'Logistic Regression', \n",
    "              'Random Forest', 'Naive Bayes',\n",
    "              'Stochastic Gradient Decent', \n",
    "              'Decision Tree'],\n",
    "    'Score': [acc_linear_svc, acc_knn, acc_log, \n",
    "              acc_random_forest, acc_gaussian, \n",
    "              acc_sgd, acc_decision_tree]})\n",
    "result_df = results.sort_values(by='Score', ascending=False)\n",
    "result_df = result_df.set_index('Score')\n",
    "result_df.head(9)"
   ]
  },
  {
   "cell_type": "markdown",
   "id": "6ea33a3e-0ccb-4ef4-9d21-727b44f8ef4c",
   "metadata": {},
   "source": [
    "#### Problema de clasificacion 1,0, Probar con una red neuronal"
   ]
  },
  {
   "cell_type": "code",
   "execution_count": 201,
   "id": "710d95ca-ee05-415c-a369-88c401e4a8b7",
   "metadata": {},
   "outputs": [],
   "source": [
    "from tensorflow.keras.models import Sequential\n",
    "from tensorflow.keras.layers import Dense, BatchNormalization, Dropout\n",
    "# Vamos a codificar la topología de nuestro MLP\n",
    "model_bn = Sequential()\n",
    "model_bn.add(Dense(128,activation='relu', input_shape=(WORD_LIMIT,)))\n",
    "model_bn.add(BatchNormalization())\n",
    "model_bn.add(Dropout(0.75))\n",
    "model_bn.add(Dense(64,activation='relu'))\n",
    "model_bn.add(BatchNormalization())\n",
    "model_bn.add(Dropout(0.75))\n",
    "model_bn.add(Dense(46,activation='softmax')) # Reparto de la unidad de probabilidad entre num_classes"
   ]
  },
  {
   "cell_type": "code",
   "execution_count": null,
   "id": "2ebec471-ad30-4e61-a76e-fac2b7ec501e",
   "metadata": {},
   "outputs": [],
   "source": [
    "# Ahora que tengo definida la arquitectura, la compilo\n",
    "model_bn.compile(optimizer='adam',\n",
    "               loss='categorical_crossentropy', # ideal para clasificacion multiclase\n",
    "               metrics=['accuracy'])"
   ]
  },
  {
   "cell_type": "code",
   "execution_count": null,
   "id": "91e24e7f-da3c-45fa-b138-e1f12315a860",
   "metadata": {},
   "outputs": [
    {
     "name": "stdout",
     "output_type": "stream",
     "text": [
      "Epoch 1/200\n",
      "23/23 [==============================] - 0s 9ms/step - loss: 0.0000e+00 - accuracy: 0.3904 - val_loss: 0.0000e+00 - val_accuracy: 0.3575\n",
      "Epoch 2/200\n",
      "23/23 [==============================] - 0s 10ms/step - loss: 0.0000e+00 - accuracy: 0.3904 - val_loss: 0.0000e+00 - val_accuracy: 0.3575\n",
      "Epoch 3/200\n",
      "23/23 [==============================] - 0s 9ms/step - loss: 0.0000e+00 - accuracy: 0.3904 - val_loss: 0.0000e+00 - val_accuracy: 0.3575\n",
      "Epoch 4/200\n",
      "23/23 [==============================] - 0s 9ms/step - loss: 0.0000e+00 - accuracy: 0.3904 - val_loss: 0.0000e+00 - val_accuracy: 0.3575\n",
      "Epoch 5/200\n",
      "23/23 [==============================] - 0s 9ms/step - loss: 0.0000e+00 - accuracy: 0.3904 - val_loss: 0.0000e+00 - val_accuracy: 0.3575\n",
      "Epoch 6/200\n",
      "23/23 [==============================] - 0s 8ms/step - loss: 0.0000e+00 - accuracy: 0.3904 - val_loss: 0.0000e+00 - val_accuracy: 0.3575\n",
      "Epoch 7/200\n",
      "23/23 [==============================] - 0s 10ms/step - loss: 0.0000e+00 - accuracy: 0.3904 - val_loss: 0.0000e+00 - val_accuracy: 0.3575\n",
      "Epoch 8/200\n",
      "23/23 [==============================] - 0s 10ms/step - loss: 0.0000e+00 - accuracy: 0.3904 - val_loss: 0.0000e+00 - val_accuracy: 0.3575\n",
      "Epoch 9/200\n",
      "23/23 [==============================] - 0s 8ms/step - loss: 0.0000e+00 - accuracy: 0.3904 - val_loss: 0.0000e+00 - val_accuracy: 0.3575\n",
      "Epoch 10/200\n",
      "23/23 [==============================] - 0s 9ms/step - loss: 0.0000e+00 - accuracy: 0.3904 - val_loss: 0.0000e+00 - val_accuracy: 0.3575\n",
      "Epoch 11/200\n",
      "23/23 [==============================] - 0s 10ms/step - loss: 0.0000e+00 - accuracy: 0.3904 - val_loss: 0.0000e+00 - val_accuracy: 0.3575\n",
      "Epoch 12/200\n",
      "23/23 [==============================] - 0s 9ms/step - loss: 0.0000e+00 - accuracy: 0.3904 - val_loss: 0.0000e+00 - val_accuracy: 0.3575\n",
      "Epoch 13/200\n",
      "23/23 [==============================] - 0s 10ms/step - loss: 0.0000e+00 - accuracy: 0.3904 - val_loss: 0.0000e+00 - val_accuracy: 0.3575\n",
      "Epoch 14/200\n",
      "23/23 [==============================] - 0s 9ms/step - loss: 0.0000e+00 - accuracy: 0.3904 - val_loss: 0.0000e+00 - val_accuracy: 0.3575\n",
      "Epoch 15/200\n",
      "23/23 [==============================] - 0s 12ms/step - loss: 0.0000e+00 - accuracy: 0.3904 - val_loss: 0.0000e+00 - val_accuracy: 0.3575\n",
      "Epoch 16/200\n",
      "23/23 [==============================] - 0s 11ms/step - loss: 0.0000e+00 - accuracy: 0.3904 - val_loss: 0.0000e+00 - val_accuracy: 0.3575\n",
      "Epoch 17/200\n",
      "23/23 [==============================] - 0s 10ms/step - loss: 0.0000e+00 - accuracy: 0.3904 - val_loss: 0.0000e+00 - val_accuracy: 0.3575\n",
      "Epoch 18/200\n",
      "23/23 [==============================] - 0s 10ms/step - loss: 0.0000e+00 - accuracy: 0.3904 - val_loss: 0.0000e+00 - val_accuracy: 0.3575\n",
      "Epoch 19/200\n",
      "23/23 [==============================] - 0s 10ms/step - loss: 0.0000e+00 - accuracy: 0.3904 - val_loss: 0.0000e+00 - val_accuracy: 0.3575\n",
      "Epoch 20/200\n",
      "23/23 [==============================] - 0s 9ms/step - loss: 0.0000e+00 - accuracy: 0.3904 - val_loss: 0.0000e+00 - val_accuracy: 0.3575\n",
      "Epoch 21/200\n",
      "23/23 [==============================] - 0s 10ms/step - loss: 0.0000e+00 - accuracy: 0.3904 - val_loss: 0.0000e+00 - val_accuracy: 0.3575\n",
      "Epoch 22/200\n",
      "23/23 [==============================] - 0s 9ms/step - loss: 0.0000e+00 - accuracy: 0.3904 - val_loss: 0.0000e+00 - val_accuracy: 0.3575\n",
      "Epoch 23/200\n",
      "23/23 [==============================] - 0s 8ms/step - loss: 0.0000e+00 - accuracy: 0.3904 - val_loss: 0.0000e+00 - val_accuracy: 0.3575\n",
      "Epoch 24/200\n",
      "23/23 [==============================] - 0s 9ms/step - loss: 0.0000e+00 - accuracy: 0.3904 - val_loss: 0.0000e+00 - val_accuracy: 0.3575\n",
      "Epoch 25/200\n",
      "23/23 [==============================] - 0s 8ms/step - loss: 0.0000e+00 - accuracy: 0.3904 - val_loss: 0.0000e+00 - val_accuracy: 0.3575\n",
      "Epoch 26/200\n",
      "23/23 [==============================] - 0s 9ms/step - loss: 0.0000e+00 - accuracy: 0.3904 - val_loss: 0.0000e+00 - val_accuracy: 0.3575\n",
      "Epoch 27/200\n",
      "23/23 [==============================] - 0s 8ms/step - loss: 0.0000e+00 - accuracy: 0.3904 - val_loss: 0.0000e+00 - val_accuracy: 0.3575\n",
      "Epoch 28/200\n",
      "23/23 [==============================] - 0s 9ms/step - loss: 0.0000e+00 - accuracy: 0.3904 - val_loss: 0.0000e+00 - val_accuracy: 0.3575\n",
      "Epoch 29/200\n",
      "23/23 [==============================] - 0s 12ms/step - loss: 0.0000e+00 - accuracy: 0.3904 - val_loss: 0.0000e+00 - val_accuracy: 0.3575\n",
      "Epoch 30/200\n",
      "23/23 [==============================] - 0s 11ms/step - loss: 0.0000e+00 - accuracy: 0.3904 - val_loss: 0.0000e+00 - val_accuracy: 0.3575\n",
      "Epoch 31/200\n",
      "23/23 [==============================] - 0s 9ms/step - loss: 0.0000e+00 - accuracy: 0.3904 - val_loss: 0.0000e+00 - val_accuracy: 0.3575\n",
      "Epoch 32/200\n",
      "23/23 [==============================] - 0s 9ms/step - loss: 0.0000e+00 - accuracy: 0.3904 - val_loss: 0.0000e+00 - val_accuracy: 0.3575\n",
      "Epoch 33/200\n",
      "23/23 [==============================] - 0s 9ms/step - loss: 0.0000e+00 - accuracy: 0.3904 - val_loss: 0.0000e+00 - val_accuracy: 0.3575\n",
      "Epoch 34/200\n",
      "23/23 [==============================] - 0s 10ms/step - loss: 0.0000e+00 - accuracy: 0.3904 - val_loss: 0.0000e+00 - val_accuracy: 0.3575\n",
      "Epoch 35/200\n",
      "23/23 [==============================] - 0s 10ms/step - loss: 0.0000e+00 - accuracy: 0.3904 - val_loss: 0.0000e+00 - val_accuracy: 0.3575\n",
      "Epoch 36/200\n",
      "23/23 [==============================] - 0s 9ms/step - loss: 0.0000e+00 - accuracy: 0.3904 - val_loss: 0.0000e+00 - val_accuracy: 0.3575\n",
      "Epoch 37/200\n",
      "23/23 [==============================] - 0s 10ms/step - loss: 0.0000e+00 - accuracy: 0.3904 - val_loss: 0.0000e+00 - val_accuracy: 0.3575\n",
      "Epoch 38/200\n",
      "23/23 [==============================] - 0s 10ms/step - loss: 0.0000e+00 - accuracy: 0.3904 - val_loss: 0.0000e+00 - val_accuracy: 0.3575\n",
      "Epoch 39/200\n",
      "23/23 [==============================] - 0s 10ms/step - loss: 0.0000e+00 - accuracy: 0.3904 - val_loss: 0.0000e+00 - val_accuracy: 0.3575\n",
      "Epoch 40/200\n",
      "23/23 [==============================] - 0s 10ms/step - loss: 0.0000e+00 - accuracy: 0.3904 - val_loss: 0.0000e+00 - val_accuracy: 0.3575\n",
      "Epoch 41/200\n",
      "23/23 [==============================] - 0s 9ms/step - loss: 0.0000e+00 - accuracy: 0.3904 - val_loss: 0.0000e+00 - val_accuracy: 0.3575\n",
      "Epoch 42/200\n",
      "23/23 [==============================] - 0s 10ms/step - loss: 0.0000e+00 - accuracy: 0.3904 - val_loss: 0.0000e+00 - val_accuracy: 0.3575\n",
      "Epoch 43/200\n",
      "23/23 [==============================] - 0s 9ms/step - loss: 0.0000e+00 - accuracy: 0.3904 - val_loss: 0.0000e+00 - val_accuracy: 0.3575\n",
      "Epoch 44/200\n",
      "23/23 [==============================] - 0s 9ms/step - loss: 0.0000e+00 - accuracy: 0.3904 - val_loss: 0.0000e+00 - val_accuracy: 0.3575\n",
      "Epoch 45/200\n",
      "23/23 [==============================] - 0s 10ms/step - loss: 0.0000e+00 - accuracy: 0.3904 - val_loss: 0.0000e+00 - val_accuracy: 0.3575\n",
      "Epoch 46/200\n",
      "23/23 [==============================] - 0s 10ms/step - loss: 0.0000e+00 - accuracy: 0.3904 - val_loss: 0.0000e+00 - val_accuracy: 0.3575\n",
      "Epoch 47/200\n",
      "23/23 [==============================] - 0s 11ms/step - loss: 0.0000e+00 - accuracy: 0.3904 - val_loss: 0.0000e+00 - val_accuracy: 0.3575\n",
      "Epoch 48/200\n",
      "23/23 [==============================] - 0s 10ms/step - loss: 0.0000e+00 - accuracy: 0.3904 - val_loss: 0.0000e+00 - val_accuracy: 0.3575\n",
      "Epoch 49/200\n",
      "23/23 [==============================] - 0s 10ms/step - loss: 0.0000e+00 - accuracy: 0.3904 - val_loss: 0.0000e+00 - val_accuracy: 0.3575\n",
      "Epoch 50/200\n",
      "23/23 [==============================] - 0s 11ms/step - loss: 0.0000e+00 - accuracy: 0.3904 - val_loss: 0.0000e+00 - val_accuracy: 0.3575\n",
      "Epoch 51/200\n",
      "23/23 [==============================] - 0s 9ms/step - loss: 0.0000e+00 - accuracy: 0.3904 - val_loss: 0.0000e+00 - val_accuracy: 0.3575\n",
      "Epoch 52/200\n",
      "23/23 [==============================] - 0s 9ms/step - loss: 0.0000e+00 - accuracy: 0.3904 - val_loss: 0.0000e+00 - val_accuracy: 0.3575\n",
      "Epoch 53/200\n",
      "23/23 [==============================] - 0s 12ms/step - loss: 0.0000e+00 - accuracy: 0.3904 - val_loss: 0.0000e+00 - val_accuracy: 0.3575\n",
      "Epoch 54/200\n",
      "23/23 [==============================] - 0s 10ms/step - loss: 0.0000e+00 - accuracy: 0.3904 - val_loss: 0.0000e+00 - val_accuracy: 0.3575\n",
      "Epoch 55/200\n",
      "23/23 [==============================] - 0s 11ms/step - loss: 0.0000e+00 - accuracy: 0.3904 - val_loss: 0.0000e+00 - val_accuracy: 0.3575\n",
      "Epoch 56/200\n",
      "23/23 [==============================] - 0s 10ms/step - loss: 0.0000e+00 - accuracy: 0.3904 - val_loss: 0.0000e+00 - val_accuracy: 0.3575\n",
      "Epoch 57/200\n",
      "23/23 [==============================] - 0s 9ms/step - loss: 0.0000e+00 - accuracy: 0.3904 - val_loss: 0.0000e+00 - val_accuracy: 0.3575\n",
      "Epoch 58/200\n",
      "23/23 [==============================] - 0s 9ms/step - loss: 0.0000e+00 - accuracy: 0.3904 - val_loss: 0.0000e+00 - val_accuracy: 0.3575\n",
      "Epoch 59/200\n",
      "23/23 [==============================] - 0s 9ms/step - loss: 0.0000e+00 - accuracy: 0.3904 - val_loss: 0.0000e+00 - val_accuracy: 0.3575\n",
      "Epoch 60/200\n",
      "23/23 [==============================] - 0s 11ms/step - loss: 0.0000e+00 - accuracy: 0.3904 - val_loss: 0.0000e+00 - val_accuracy: 0.3575\n",
      "Epoch 61/200\n",
      "23/23 [==============================] - 0s 10ms/step - loss: 0.0000e+00 - accuracy: 0.3904 - val_loss: 0.0000e+00 - val_accuracy: 0.3575\n",
      "Epoch 62/200\n",
      "23/23 [==============================] - 0s 9ms/step - loss: 0.0000e+00 - accuracy: 0.3904 - val_loss: 0.0000e+00 - val_accuracy: 0.3575\n",
      "Epoch 63/200\n",
      "23/23 [==============================] - 0s 9ms/step - loss: 0.0000e+00 - accuracy: 0.3904 - val_loss: 0.0000e+00 - val_accuracy: 0.3575\n",
      "Epoch 64/200\n",
      "23/23 [==============================] - 0s 9ms/step - loss: 0.0000e+00 - accuracy: 0.3904 - val_loss: 0.0000e+00 - val_accuracy: 0.3575\n",
      "Epoch 65/200\n",
      "23/23 [==============================] - 0s 9ms/step - loss: 0.0000e+00 - accuracy: 0.3904 - val_loss: 0.0000e+00 - val_accuracy: 0.3575\n",
      "Epoch 66/200\n",
      "23/23 [==============================] - 0s 10ms/step - loss: 0.0000e+00 - accuracy: 0.3904 - val_loss: 0.0000e+00 - val_accuracy: 0.3575\n",
      "Epoch 67/200\n",
      "23/23 [==============================] - 0s 10ms/step - loss: 0.0000e+00 - accuracy: 0.3904 - val_loss: 0.0000e+00 - val_accuracy: 0.3575\n",
      "Epoch 68/200\n",
      "23/23 [==============================] - 0s 9ms/step - loss: 0.0000e+00 - accuracy: 0.3904 - val_loss: 0.0000e+00 - val_accuracy: 0.3575\n",
      "Epoch 69/200\n",
      "23/23 [==============================] - 0s 10ms/step - loss: 0.0000e+00 - accuracy: 0.3904 - val_loss: 0.0000e+00 - val_accuracy: 0.3575\n",
      "Epoch 70/200\n",
      "23/23 [==============================] - 0s 10ms/step - loss: 0.0000e+00 - accuracy: 0.3904 - val_loss: 0.0000e+00 - val_accuracy: 0.3575\n",
      "Epoch 71/200\n",
      "23/23 [==============================] - 0s 11ms/step - loss: 0.0000e+00 - accuracy: 0.3904 - val_loss: 0.0000e+00 - val_accuracy: 0.3575\n",
      "Epoch 72/200\n",
      "23/23 [==============================] - 0s 9ms/step - loss: 0.0000e+00 - accuracy: 0.3904 - val_loss: 0.0000e+00 - val_accuracy: 0.3575\n",
      "Epoch 73/200\n",
      "23/23 [==============================] - 0s 10ms/step - loss: 0.0000e+00 - accuracy: 0.3904 - val_loss: 0.0000e+00 - val_accuracy: 0.3575\n",
      "Epoch 74/200\n",
      "23/23 [==============================] - 0s 10ms/step - loss: 0.0000e+00 - accuracy: 0.3904 - val_loss: 0.0000e+00 - val_accuracy: 0.3575\n",
      "Epoch 75/200\n",
      "23/23 [==============================] - 0s 10ms/step - loss: 0.0000e+00 - accuracy: 0.3904 - val_loss: 0.0000e+00 - val_accuracy: 0.3575\n",
      "Epoch 76/200\n",
      "23/23 [==============================] - 0s 11ms/step - loss: 0.0000e+00 - accuracy: 0.3904 - val_loss: 0.0000e+00 - val_accuracy: 0.3575\n",
      "Epoch 77/200\n",
      "23/23 [==============================] - 0s 9ms/step - loss: 0.0000e+00 - accuracy: 0.3904 - val_loss: 0.0000e+00 - val_accuracy: 0.3575\n",
      "Epoch 78/200\n",
      "23/23 [==============================] - 0s 11ms/step - loss: 0.0000e+00 - accuracy: 0.3904 - val_loss: 0.0000e+00 - val_accuracy: 0.3575\n",
      "Epoch 79/200\n",
      "23/23 [==============================] - 0s 10ms/step - loss: 0.0000e+00 - accuracy: 0.3904 - val_loss: 0.0000e+00 - val_accuracy: 0.3575\n",
      "Epoch 80/200\n",
      "23/23 [==============================] - 0s 10ms/step - loss: 0.0000e+00 - accuracy: 0.3904 - val_loss: 0.0000e+00 - val_accuracy: 0.3575\n",
      "Epoch 81/200\n",
      "23/23 [==============================] - 0s 10ms/step - loss: 0.0000e+00 - accuracy: 0.3904 - val_loss: 0.0000e+00 - val_accuracy: 0.3575\n",
      "Epoch 82/200\n",
      "23/23 [==============================] - 0s 9ms/step - loss: 0.0000e+00 - accuracy: 0.3904 - val_loss: 0.0000e+00 - val_accuracy: 0.3575\n",
      "Epoch 83/200\n",
      "23/23 [==============================] - 0s 9ms/step - loss: 0.0000e+00 - accuracy: 0.3904 - val_loss: 0.0000e+00 - val_accuracy: 0.3575\n",
      "Epoch 84/200\n",
      "23/23 [==============================] - 0s 9ms/step - loss: 0.0000e+00 - accuracy: 0.3904 - val_loss: 0.0000e+00 - val_accuracy: 0.3575\n",
      "Epoch 85/200\n",
      "23/23 [==============================] - 0s 10ms/step - loss: 0.0000e+00 - accuracy: 0.3904 - val_loss: 0.0000e+00 - val_accuracy: 0.3575\n",
      "Epoch 86/200\n",
      "23/23 [==============================] - 0s 10ms/step - loss: 0.0000e+00 - accuracy: 0.3904 - val_loss: 0.0000e+00 - val_accuracy: 0.3575\n",
      "Epoch 87/200\n",
      "23/23 [==============================] - 0s 10ms/step - loss: 0.0000e+00 - accuracy: 0.3904 - val_loss: 0.0000e+00 - val_accuracy: 0.3575\n",
      "Epoch 88/200\n",
      "23/23 [==============================] - 0s 9ms/step - loss: 0.0000e+00 - accuracy: 0.3904 - val_loss: 0.0000e+00 - val_accuracy: 0.3575\n",
      "Epoch 89/200\n",
      "23/23 [==============================] - 0s 8ms/step - loss: 0.0000e+00 - accuracy: 0.3904 - val_loss: 0.0000e+00 - val_accuracy: 0.3575\n",
      "Epoch 90/200\n",
      "23/23 [==============================] - 0s 9ms/step - loss: 0.0000e+00 - accuracy: 0.3904 - val_loss: 0.0000e+00 - val_accuracy: 0.3575\n",
      "Epoch 91/200\n",
      "23/23 [==============================] - 0s 9ms/step - loss: 0.0000e+00 - accuracy: 0.3904 - val_loss: 0.0000e+00 - val_accuracy: 0.3575\n",
      "Epoch 92/200\n",
      "23/23 [==============================] - 0s 10ms/step - loss: 0.0000e+00 - accuracy: 0.3904 - val_loss: 0.0000e+00 - val_accuracy: 0.3575\n",
      "Epoch 93/200\n",
      "23/23 [==============================] - 0s 10ms/step - loss: 0.0000e+00 - accuracy: 0.3904 - val_loss: 0.0000e+00 - val_accuracy: 0.3575\n",
      "Epoch 94/200\n",
      "23/23 [==============================] - 0s 10ms/step - loss: 0.0000e+00 - accuracy: 0.3904 - val_loss: 0.0000e+00 - val_accuracy: 0.3575\n",
      "Epoch 95/200\n",
      "23/23 [==============================] - 0s 10ms/step - loss: 0.0000e+00 - accuracy: 0.3904 - val_loss: 0.0000e+00 - val_accuracy: 0.3575\n",
      "Epoch 96/200\n",
      "23/23 [==============================] - 0s 10ms/step - loss: 0.0000e+00 - accuracy: 0.3904 - val_loss: 0.0000e+00 - val_accuracy: 0.3575\n",
      "Epoch 97/200\n",
      "23/23 [==============================] - 0s 11ms/step - loss: 0.0000e+00 - accuracy: 0.3904 - val_loss: 0.0000e+00 - val_accuracy: 0.3575\n",
      "Epoch 98/200\n",
      "23/23 [==============================] - 0s 9ms/step - loss: 0.0000e+00 - accuracy: 0.3904 - val_loss: 0.0000e+00 - val_accuracy: 0.3575\n",
      "Epoch 99/200\n",
      "23/23 [==============================] - 0s 9ms/step - loss: 0.0000e+00 - accuracy: 0.3904 - val_loss: 0.0000e+00 - val_accuracy: 0.3575\n",
      "Epoch 100/200\n",
      "23/23 [==============================] - 0s 10ms/step - loss: 0.0000e+00 - accuracy: 0.3904 - val_loss: 0.0000e+00 - val_accuracy: 0.3575\n",
      "Epoch 101/200\n",
      "23/23 [==============================] - 0s 10ms/step - loss: 0.0000e+00 - accuracy: 0.3904 - val_loss: 0.0000e+00 - val_accuracy: 0.3575\n",
      "Epoch 102/200\n",
      "23/23 [==============================] - 0s 9ms/step - loss: 0.0000e+00 - accuracy: 0.3904 - val_loss: 0.0000e+00 - val_accuracy: 0.3575\n",
      "Epoch 103/200\n",
      "23/23 [==============================] - 0s 10ms/step - loss: 0.0000e+00 - accuracy: 0.3904 - val_loss: 0.0000e+00 - val_accuracy: 0.3575\n",
      "Epoch 104/200\n",
      "23/23 [==============================] - 0s 9ms/step - loss: 0.0000e+00 - accuracy: 0.3904 - val_loss: 0.0000e+00 - val_accuracy: 0.3575\n",
      "Epoch 105/200\n",
      "23/23 [==============================] - 0s 9ms/step - loss: 0.0000e+00 - accuracy: 0.3904 - val_loss: 0.0000e+00 - val_accuracy: 0.3575\n",
      "Epoch 106/200\n",
      "23/23 [==============================] - 0s 10ms/step - loss: 0.0000e+00 - accuracy: 0.3904 - val_loss: 0.0000e+00 - val_accuracy: 0.3575\n",
      "Epoch 107/200\n",
      "23/23 [==============================] - 0s 10ms/step - loss: 0.0000e+00 - accuracy: 0.3904 - val_loss: 0.0000e+00 - val_accuracy: 0.3575\n",
      "Epoch 108/200\n",
      "23/23 [==============================] - 0s 11ms/step - loss: 0.0000e+00 - accuracy: 0.3904 - val_loss: 0.0000e+00 - val_accuracy: 0.3575\n",
      "Epoch 109/200\n",
      "23/23 [==============================] - 0s 11ms/step - loss: 0.0000e+00 - accuracy: 0.3904 - val_loss: 0.0000e+00 - val_accuracy: 0.3575\n",
      "Epoch 110/200\n",
      "23/23 [==============================] - 0s 10ms/step - loss: 0.0000e+00 - accuracy: 0.3904 - val_loss: 0.0000e+00 - val_accuracy: 0.3575\n",
      "Epoch 111/200\n",
      "23/23 [==============================] - 0s 10ms/step - loss: 0.0000e+00 - accuracy: 0.3904 - val_loss: 0.0000e+00 - val_accuracy: 0.3575\n",
      "Epoch 112/200\n",
      "23/23 [==============================] - 0s 9ms/step - loss: 0.0000e+00 - accuracy: 0.3904 - val_loss: 0.0000e+00 - val_accuracy: 0.3575\n",
      "Epoch 113/200\n",
      "23/23 [==============================] - 0s 11ms/step - loss: 0.0000e+00 - accuracy: 0.3904 - val_loss: 0.0000e+00 - val_accuracy: 0.3575\n",
      "Epoch 114/200\n",
      "23/23 [==============================] - 0s 9ms/step - loss: 0.0000e+00 - accuracy: 0.3904 - val_loss: 0.0000e+00 - val_accuracy: 0.3575\n",
      "Epoch 115/200\n",
      "23/23 [==============================] - 0s 10ms/step - loss: 0.0000e+00 - accuracy: 0.3904 - val_loss: 0.0000e+00 - val_accuracy: 0.3575\n",
      "Epoch 116/200\n",
      "23/23 [==============================] - 0s 9ms/step - loss: 0.0000e+00 - accuracy: 0.3904 - val_loss: 0.0000e+00 - val_accuracy: 0.3575\n",
      "Epoch 117/200\n",
      "23/23 [==============================] - 0s 9ms/step - loss: 0.0000e+00 - accuracy: 0.3904 - val_loss: 0.0000e+00 - val_accuracy: 0.3575\n",
      "Epoch 118/200\n",
      "23/23 [==============================] - 0s 10ms/step - loss: 0.0000e+00 - accuracy: 0.3904 - val_loss: 0.0000e+00 - val_accuracy: 0.3575\n",
      "Epoch 119/200\n",
      "23/23 [==============================] - 0s 10ms/step - loss: 0.0000e+00 - accuracy: 0.3904 - val_loss: 0.0000e+00 - val_accuracy: 0.3575\n",
      "Epoch 120/200\n",
      "23/23 [==============================] - 0s 10ms/step - loss: 0.0000e+00 - accuracy: 0.3904 - val_loss: 0.0000e+00 - val_accuracy: 0.3575\n",
      "Epoch 121/200\n",
      "23/23 [==============================] - 0s 9ms/step - loss: 0.0000e+00 - accuracy: 0.3904 - val_loss: 0.0000e+00 - val_accuracy: 0.3575\n",
      "Epoch 122/200\n",
      "23/23 [==============================] - 0s 9ms/step - loss: 0.0000e+00 - accuracy: 0.3904 - val_loss: 0.0000e+00 - val_accuracy: 0.3575\n",
      "Epoch 123/200\n",
      "23/23 [==============================] - 0s 10ms/step - loss: 0.0000e+00 - accuracy: 0.3904 - val_loss: 0.0000e+00 - val_accuracy: 0.3575\n",
      "Epoch 124/200\n",
      "23/23 [==============================] - 0s 13ms/step - loss: 0.0000e+00 - accuracy: 0.3904 - val_loss: 0.0000e+00 - val_accuracy: 0.3575\n",
      "Epoch 125/200\n",
      "23/23 [==============================] - 0s 14ms/step - loss: 0.0000e+00 - accuracy: 0.3904 - val_loss: 0.0000e+00 - val_accuracy: 0.3575\n",
      "Epoch 126/200\n",
      "23/23 [==============================] - 0s 12ms/step - loss: 0.0000e+00 - accuracy: 0.3904 - val_loss: 0.0000e+00 - val_accuracy: 0.3575\n",
      "Epoch 127/200\n",
      "23/23 [==============================] - 0s 12ms/step - loss: 0.0000e+00 - accuracy: 0.3904 - val_loss: 0.0000e+00 - val_accuracy: 0.3575\n",
      "Epoch 128/200\n",
      "23/23 [==============================] - 0s 11ms/step - loss: 0.0000e+00 - accuracy: 0.3904 - val_loss: 0.0000e+00 - val_accuracy: 0.3575\n",
      "Epoch 129/200\n",
      "23/23 [==============================] - 0s 10ms/step - loss: 0.0000e+00 - accuracy: 0.3904 - val_loss: 0.0000e+00 - val_accuracy: 0.3575\n",
      "Epoch 130/200\n",
      "23/23 [==============================] - 0s 14ms/step - loss: 0.0000e+00 - accuracy: 0.3904 - val_loss: 0.0000e+00 - val_accuracy: 0.3575\n",
      "Epoch 131/200\n",
      "23/23 [==============================] - 0s 12ms/step - loss: 0.0000e+00 - accuracy: 0.3904 - val_loss: 0.0000e+00 - val_accuracy: 0.3575\n",
      "Epoch 132/200\n",
      "23/23 [==============================] - 0s 12ms/step - loss: 0.0000e+00 - accuracy: 0.3904 - val_loss: 0.0000e+00 - val_accuracy: 0.3575\n",
      "Epoch 133/200\n",
      "23/23 [==============================] - 0s 13ms/step - loss: 0.0000e+00 - accuracy: 0.3904 - val_loss: 0.0000e+00 - val_accuracy: 0.3575\n",
      "Epoch 134/200\n",
      "23/23 [==============================] - 0s 11ms/step - loss: 0.0000e+00 - accuracy: 0.3904 - val_loss: 0.0000e+00 - val_accuracy: 0.3575\n",
      "Epoch 135/200\n",
      "23/23 [==============================] - 0s 9ms/step - loss: 0.0000e+00 - accuracy: 0.3904 - val_loss: 0.0000e+00 - val_accuracy: 0.3575\n",
      "Epoch 136/200\n",
      "23/23 [==============================] - 0s 10ms/step - loss: 0.0000e+00 - accuracy: 0.3904 - val_loss: 0.0000e+00 - val_accuracy: 0.3575\n",
      "Epoch 137/200\n",
      "23/23 [==============================] - 0s 12ms/step - loss: 0.0000e+00 - accuracy: 0.3904 - val_loss: 0.0000e+00 - val_accuracy: 0.3575\n",
      "Epoch 138/200\n",
      "23/23 [==============================] - 0s 10ms/step - loss: 0.0000e+00 - accuracy: 0.3904 - val_loss: 0.0000e+00 - val_accuracy: 0.3575\n",
      "Epoch 139/200\n",
      "23/23 [==============================] - 0s 10ms/step - loss: 0.0000e+00 - accuracy: 0.3904 - val_loss: 0.0000e+00 - val_accuracy: 0.3575\n",
      "Epoch 140/200\n",
      "23/23 [==============================] - 0s 11ms/step - loss: 0.0000e+00 - accuracy: 0.3904 - val_loss: 0.0000e+00 - val_accuracy: 0.3575\n",
      "Epoch 141/200\n",
      "23/23 [==============================] - 0s 12ms/step - loss: 0.0000e+00 - accuracy: 0.3904 - val_loss: 0.0000e+00 - val_accuracy: 0.3575\n",
      "Epoch 142/200\n",
      "23/23 [==============================] - 0s 13ms/step - loss: 0.0000e+00 - accuracy: 0.3904 - val_loss: 0.0000e+00 - val_accuracy: 0.3575\n",
      "Epoch 143/200\n",
      "23/23 [==============================] - 0s 11ms/step - loss: 0.0000e+00 - accuracy: 0.3904 - val_loss: 0.0000e+00 - val_accuracy: 0.3575\n",
      "Epoch 144/200\n",
      "23/23 [==============================] - 0s 10ms/step - loss: 0.0000e+00 - accuracy: 0.3904 - val_loss: 0.0000e+00 - val_accuracy: 0.3575\n",
      "Epoch 145/200\n",
      "23/23 [==============================] - 0s 10ms/step - loss: 0.0000e+00 - accuracy: 0.3904 - val_loss: 0.0000e+00 - val_accuracy: 0.3575\n",
      "Epoch 146/200\n",
      "23/23 [==============================] - 0s 10ms/step - loss: 0.0000e+00 - accuracy: 0.3904 - val_loss: 0.0000e+00 - val_accuracy: 0.3575\n",
      "Epoch 147/200\n",
      "23/23 [==============================] - 0s 12ms/step - loss: 0.0000e+00 - accuracy: 0.3904 - val_loss: 0.0000e+00 - val_accuracy: 0.3575\n",
      "Epoch 148/200\n",
      "23/23 [==============================] - 0s 11ms/step - loss: 0.0000e+00 - accuracy: 0.3904 - val_loss: 0.0000e+00 - val_accuracy: 0.3575\n",
      "Epoch 149/200\n",
      "23/23 [==============================] - 0s 11ms/step - loss: 0.0000e+00 - accuracy: 0.3904 - val_loss: 0.0000e+00 - val_accuracy: 0.3575\n",
      "Epoch 150/200\n",
      "23/23 [==============================] - 0s 9ms/step - loss: 0.0000e+00 - accuracy: 0.3904 - val_loss: 0.0000e+00 - val_accuracy: 0.3575\n",
      "Epoch 151/200\n",
      "23/23 [==============================] - 0s 12ms/step - loss: 0.0000e+00 - accuracy: 0.3904 - val_loss: 0.0000e+00 - val_accuracy: 0.3575\n",
      "Epoch 152/200\n",
      "23/23 [==============================] - 0s 13ms/step - loss: 0.0000e+00 - accuracy: 0.3904 - val_loss: 0.0000e+00 - val_accuracy: 0.3575\n",
      "Epoch 153/200\n",
      "23/23 [==============================] - 0s 11ms/step - loss: 0.0000e+00 - accuracy: 0.3904 - val_loss: 0.0000e+00 - val_accuracy: 0.3575\n",
      "Epoch 154/200\n",
      "23/23 [==============================] - 0s 10ms/step - loss: 0.0000e+00 - accuracy: 0.3904 - val_loss: 0.0000e+00 - val_accuracy: 0.3575\n",
      "Epoch 155/200\n",
      "23/23 [==============================] - 0s 10ms/step - loss: 0.0000e+00 - accuracy: 0.3904 - val_loss: 0.0000e+00 - val_accuracy: 0.3575\n",
      "Epoch 156/200\n",
      "23/23 [==============================] - 0s 11ms/step - loss: 0.0000e+00 - accuracy: 0.3904 - val_loss: 0.0000e+00 - val_accuracy: 0.3575\n",
      "Epoch 157/200\n",
      "23/23 [==============================] - 0s 11ms/step - loss: 0.0000e+00 - accuracy: 0.3904 - val_loss: 0.0000e+00 - val_accuracy: 0.3575\n",
      "Epoch 158/200\n",
      "23/23 [==============================] - 0s 11ms/step - loss: 0.0000e+00 - accuracy: 0.3904 - val_loss: 0.0000e+00 - val_accuracy: 0.3575\n",
      "Epoch 159/200\n",
      "23/23 [==============================] - 0s 10ms/step - loss: 0.0000e+00 - accuracy: 0.3904 - val_loss: 0.0000e+00 - val_accuracy: 0.3575\n",
      "Epoch 160/200\n",
      "23/23 [==============================] - 0s 10ms/step - loss: 0.0000e+00 - accuracy: 0.3904 - val_loss: 0.0000e+00 - val_accuracy: 0.3575\n",
      "Epoch 161/200\n",
      "23/23 [==============================] - 0s 11ms/step - loss: 0.0000e+00 - accuracy: 0.3904 - val_loss: 0.0000e+00 - val_accuracy: 0.3575\n",
      "Epoch 162/200\n",
      "23/23 [==============================] - 0s 11ms/step - loss: 0.0000e+00 - accuracy: 0.3904 - val_loss: 0.0000e+00 - val_accuracy: 0.3575\n",
      "Epoch 163/200\n",
      "23/23 [==============================] - 0s 10ms/step - loss: 0.0000e+00 - accuracy: 0.3904 - val_loss: 0.0000e+00 - val_accuracy: 0.3575\n",
      "Epoch 164/200\n",
      "23/23 [==============================] - 0s 10ms/step - loss: 0.0000e+00 - accuracy: 0.3904 - val_loss: 0.0000e+00 - val_accuracy: 0.3575\n",
      "Epoch 165/200\n",
      "23/23 [==============================] - 0s 10ms/step - loss: 0.0000e+00 - accuracy: 0.3904 - val_loss: 0.0000e+00 - val_accuracy: 0.3575\n",
      "Epoch 166/200\n",
      "23/23 [==============================] - 0s 12ms/step - loss: 0.0000e+00 - accuracy: 0.3904 - val_loss: 0.0000e+00 - val_accuracy: 0.3575\n",
      "Epoch 167/200\n",
      "23/23 [==============================] - 0s 12ms/step - loss: 0.0000e+00 - accuracy: 0.3904 - val_loss: 0.0000e+00 - val_accuracy: 0.3575\n",
      "Epoch 168/200\n",
      "23/23 [==============================] - 0s 11ms/step - loss: 0.0000e+00 - accuracy: 0.3904 - val_loss: 0.0000e+00 - val_accuracy: 0.3575\n",
      "Epoch 169/200\n",
      "23/23 [==============================] - 0s 10ms/step - loss: 0.0000e+00 - accuracy: 0.3904 - val_loss: 0.0000e+00 - val_accuracy: 0.3575\n",
      "Epoch 170/200\n",
      "23/23 [==============================] - 0s 12ms/step - loss: 0.0000e+00 - accuracy: 0.3904 - val_loss: 0.0000e+00 - val_accuracy: 0.3575\n",
      "Epoch 171/200\n",
      "23/23 [==============================] - 0s 11ms/step - loss: 0.0000e+00 - accuracy: 0.3904 - val_loss: 0.0000e+00 - val_accuracy: 0.3575\n",
      "Epoch 172/200\n",
      "23/23 [==============================] - 0s 10ms/step - loss: 0.0000e+00 - accuracy: 0.3904 - val_loss: 0.0000e+00 - val_accuracy: 0.3575\n",
      "Epoch 173/200\n",
      "23/23 [==============================] - 0s 10ms/step - loss: 0.0000e+00 - accuracy: 0.3904 - val_loss: 0.0000e+00 - val_accuracy: 0.3575\n",
      "Epoch 174/200\n",
      "23/23 [==============================] - 0s 11ms/step - loss: 0.0000e+00 - accuracy: 0.3904 - val_loss: 0.0000e+00 - val_accuracy: 0.3575\n",
      "Epoch 175/200\n",
      "23/23 [==============================] - 0s 11ms/step - loss: 0.0000e+00 - accuracy: 0.3904 - val_loss: 0.0000e+00 - val_accuracy: 0.3575\n",
      "Epoch 176/200\n",
      "23/23 [==============================] - 0s 10ms/step - loss: 0.0000e+00 - accuracy: 0.3904 - val_loss: 0.0000e+00 - val_accuracy: 0.3575\n",
      "Epoch 177/200\n",
      "23/23 [==============================] - 0s 11ms/step - loss: 0.0000e+00 - accuracy: 0.3904 - val_loss: 0.0000e+00 - val_accuracy: 0.3575\n",
      "Epoch 178/200\n",
      "23/23 [==============================] - 0s 11ms/step - loss: 0.0000e+00 - accuracy: 0.3904 - val_loss: 0.0000e+00 - val_accuracy: 0.3575\n",
      "Epoch 179/200\n",
      "23/23 [==============================] - 0s 10ms/step - loss: 0.0000e+00 - accuracy: 0.3904 - val_loss: 0.0000e+00 - val_accuracy: 0.3575\n",
      "Epoch 180/200\n",
      "23/23 [==============================] - 0s 11ms/step - loss: 0.0000e+00 - accuracy: 0.3904 - val_loss: 0.0000e+00 - val_accuracy: 0.3575\n",
      "Epoch 181/200\n",
      "23/23 [==============================] - 0s 10ms/step - loss: 0.0000e+00 - accuracy: 0.3904 - val_loss: 0.0000e+00 - val_accuracy: 0.3575\n",
      "Epoch 182/200\n",
      "23/23 [==============================] - 0s 10ms/step - loss: 0.0000e+00 - accuracy: 0.3904 - val_loss: 0.0000e+00 - val_accuracy: 0.3575\n",
      "Epoch 183/200\n",
      "23/23 [==============================] - 0s 10ms/step - loss: 0.0000e+00 - accuracy: 0.3904 - val_loss: 0.0000e+00 - val_accuracy: 0.3575\n",
      "Epoch 184/200\n",
      "23/23 [==============================] - 0s 10ms/step - loss: 0.0000e+00 - accuracy: 0.3904 - val_loss: 0.0000e+00 - val_accuracy: 0.3575\n",
      "Epoch 185/200\n",
      "23/23 [==============================] - 0s 11ms/step - loss: 0.0000e+00 - accuracy: 0.3904 - val_loss: 0.0000e+00 - val_accuracy: 0.3575\n",
      "Epoch 186/200\n",
      "23/23 [==============================] - 0s 10ms/step - loss: 0.0000e+00 - accuracy: 0.3904 - val_loss: 0.0000e+00 - val_accuracy: 0.3575\n",
      "Epoch 187/200\n",
      "23/23 [==============================] - 0s 12ms/step - loss: 0.0000e+00 - accuracy: 0.3904 - val_loss: 0.0000e+00 - val_accuracy: 0.3575\n",
      "Epoch 188/200\n",
      "23/23 [==============================] - 0s 13ms/step - loss: 0.0000e+00 - accuracy: 0.3904 - val_loss: 0.0000e+00 - val_accuracy: 0.3575\n",
      "Epoch 189/200\n",
      "23/23 [==============================] - 0s 11ms/step - loss: 0.0000e+00 - accuracy: 0.3904 - val_loss: 0.0000e+00 - val_accuracy: 0.3575\n",
      "Epoch 190/200\n",
      "23/23 [==============================] - 0s 11ms/step - loss: 0.0000e+00 - accuracy: 0.3904 - val_loss: 0.0000e+00 - val_accuracy: 0.3575\n",
      "Epoch 191/200\n",
      "23/23 [==============================] - 0s 11ms/step - loss: 0.0000e+00 - accuracy: 0.3904 - val_loss: 0.0000e+00 - val_accuracy: 0.3575\n",
      "Epoch 192/200\n",
      "23/23 [==============================] - 0s 10ms/step - loss: 0.0000e+00 - accuracy: 0.3904 - val_loss: 0.0000e+00 - val_accuracy: 0.3575\n",
      "Epoch 193/200\n",
      "23/23 [==============================] - 0s 9ms/step - loss: 0.0000e+00 - accuracy: 0.3904 - val_loss: 0.0000e+00 - val_accuracy: 0.3575\n",
      "Epoch 194/200\n",
      "23/23 [==============================] - 0s 11ms/step - loss: 0.0000e+00 - accuracy: 0.3904 - val_loss: 0.0000e+00 - val_accuracy: 0.3575\n",
      "Epoch 195/200\n",
      "23/23 [==============================] - 0s 11ms/step - loss: 0.0000e+00 - accuracy: 0.3904 - val_loss: 0.0000e+00 - val_accuracy: 0.3575\n",
      "Epoch 196/200\n",
      "23/23 [==============================] - 0s 12ms/step - loss: 0.0000e+00 - accuracy: 0.3904 - val_loss: 0.0000e+00 - val_accuracy: 0.3575\n",
      "Epoch 197/200\n",
      "23/23 [==============================] - 0s 9ms/step - loss: 0.0000e+00 - accuracy: 0.3904 - val_loss: 0.0000e+00 - val_accuracy: 0.3575\n",
      "Epoch 198/200\n",
      "23/23 [==============================] - 0s 11ms/step - loss: 0.0000e+00 - accuracy: 0.3904 - val_loss: 0.0000e+00 - val_accuracy: 0.3575\n",
      "Epoch 199/200\n",
      "23/23 [==============================] - 0s 10ms/step - loss: 0.0000e+00 - accuracy: 0.3904 - val_loss: 0.0000e+00 - val_accuracy: 0.3575\n",
      "Epoch 200/200\n",
      "23/23 [==============================] - 0s 13ms/step - loss: 0.0000e+00 - accuracy: 0.3904 - val_loss: 0.0000e+00 - val_accuracy: 0.3575\n"
     ]
    }
   ],
   "source": [
    "# A entrenar nuestra red neuronal sea dicho!\n",
    "H = model_bn.fit(X,Y,epochs=20,batch_size=32, validation_split=0.2)\n"
   ]
  },
  {
   "cell_type": "code",
   "execution_count": null,
   "id": "875674a5-b5fb-4325-a4b7-dfa4b9cf3d39",
   "metadata": {},
   "outputs": [
    {
     "data": {
      "text/plain": [
       "<matplotlib.legend.Legend at 0x1c41927c6a0>"
      ]
     },
     "execution_count": 217,
     "metadata": {},
     "output_type": "execute_result"
    },
    {
     "data": {
      "image/png": "[encoded data removed]",
      "text/plain": [
       "<Figure size 432x288 with 1 Axes>"
      ]
     },
     "metadata": {},
     "output_type": "display_data"
    }
   ],
   "source": [
    "import matplotlib.pyplot as plt\n",
    "# Muestro gráfica de accuracy y losses\n",
    "plt.style.use(\"ggplot\")\n",
    "plt.figure()\n",
    "plt.plot(np.arange(0, 20), H.history[\"loss\"], label=\"train_loss\")\n",
    "plt.plot(np.arange(0, 20), H.history[\"val_loss\"], label=\"val_loss\")\n",
    "plt.plot(np.arange(0, 20), H.history[\"accuracy\"], label=\"train_acc\")\n",
    "plt.plot(np.arange(0, 20), H.history[\"val_accuracy\"], label=\"val_acc\")\n",
    "plt.title(\"Training Loss and Accuracy\")\n",
    "plt.xlabel(\"Epoch #\")\n",
    "plt.ylabel(\"Loss/Accuracy\")\n",
    "plt.legend()"
   ]
  },
  {
   "cell_type": "code",
   "execution_count": null,
   "id": "da8e8f8d-3f1d-4b69-b41e-ac53b4fce5a9",
   "metadata": {},
   "outputs": [],
   "source": [
    "# Evaluando el modelo de predicción con las imágenes de test\n",
    "print(\"[INFO]: Evaluando red neuronal...\")\n",
    "model_bn.predict(x_test)\n",
    "loss, accuracy = model_bn.evaluate(x_test, y_test)\n",
    "print('Loss {}, accuracy {}'.format(loss,accuracy))"
   ]
  }
 ],
 "metadata": {
  "kernelspec": {
   "display_name": "Python 3.8 (RL)",
   "language": "python",
   "name": "rl"
  },
  "language_info": {
   "codemirror_mode": {
    "name": "ipython",
    "version": 3
   },
   "file_extension": ".py",
   "mimetype": "text/x-python",
   "name": "python",
   "nbconvert_exporter": "python",
   "pygments_lexer": "ipython3",
   "version": "3.8.8"
  }
 },
 "nbformat": 4,
 "nbformat_minor": 5
}
